{
 "cells": [
  {
   "cell_type": "markdown",
   "metadata": {},
   "source": [
    "# 1. Introduction\n",
    "\n",
    "In this article we are going to analyze the Buenos Aires city bike system looking at it as a complex network. This aproach has been used in transportation systems for a long time. This abstraction allows to reduce the amount of information available and focus primarily on the internal structure of the underlying systems.\n",
    "\n"
   ]
  },
  {
   "cell_type": "code",
   "execution_count": 1,
   "metadata": {},
   "outputs": [
    {
     "data": {
      "text/html": [
       "\n",
       "\t\t\t<script type=\"text/javascript\">\n",
       "\t\t\t<!--\n",
       "\t\t\t\t\n",
       "\t\t\t{\n",
       "\t\t\t\tvar element = document.getElementById('NetworKit_script');\n",
       "\t\t\t\tif (element) {\n",
       "\t\t\t\t\telement.parentNode.removeChild(element);\n",
       "\t\t\t\t}\n",
       "\t\t\t\telement = document.createElement('script');\n",
       "\t\t\t\telement.type = 'text/javascript';\n",
       "\t\t\t\telement.innerHTML = 'function NetworKit_pageEmbed(id) { var i, j; var elements; elements = document.getElementById(id).getElementsByClassName(\"Plot\"); for (i=0; i<elements.length; i++) { elements[i].id = id + \"_Plot_\" + i; var data = elements[i].getAttribute(\"data-image\").split(\"|\"); elements[i].removeAttribute(\"data-image\"); var content = \"<div class=\\\\\"Image\\\\\" id=\\\\\"\" + elements[i].id + \"_Image\\\\\" />\"; elements[i].innerHTML = content; elements[i].setAttribute(\"data-image-index\", 0); elements[i].setAttribute(\"data-image-length\", data.length); for (j=0; j<data.length; j++) { elements[i].setAttribute(\"data-image-\" + j, data[j]); } NetworKit_plotUpdate(elements[i]); elements[i].onclick = function (e) { NetworKit_overlayShow((e.target) ? e.target : e.srcElement); } } elements = document.getElementById(id).getElementsByClassName(\"HeatCell\"); for (i=0; i<elements.length; i++) { var data = parseFloat(elements[i].getAttribute(\"data-heat\")); var color = \"#00FF00\"; if (data <= 1 && data > 0) { color = \"hsla(0, 100%, 75%, \" + (data) + \")\"; } else if (data <= 0 && data >= -1) { color = \"hsla(240, 100%, 75%, \" + (-data) + \")\"; } elements[i].style.backgroundColor = color; } elements = document.getElementById(id).getElementsByClassName(\"Details\"); for (i=0; i<elements.length; i++) { elements[i].setAttribute(\"data-title\", \"-\"); NetworKit_toggleDetails(elements[i]); elements[i].onclick = function (e) { NetworKit_toggleDetails((e.target) ? e.target : e.srcElement); } } elements = document.getElementById(id).getElementsByClassName(\"MathValue\"); for (i=elements.length-1; i>=0; i--) { value = elements[i].innerHTML.trim(); if (value === \"nan\") { elements[i].parentNode.innerHTML = \"\" } } elements = document.getElementById(id).getElementsByClassName(\"SubCategory\"); for (i=elements.length-1; i>=0; i--) { value = elements[i].innerHTML.trim(); if (value === \"\") { elements[i].parentNode.removeChild(elements[i]) } } elements = document.getElementById(id).getElementsByClassName(\"Category\"); for (i=elements.length-1; i>=0; i--) { value = elements[i].innerHTML.trim(); if (value === \"\") { elements[i].parentNode.removeChild(elements[i]) } } var isFirefox = false; try { isFirefox = typeof InstallTrigger !== \"undefined\"; } catch (e) {} if (!isFirefox) { alert(\"Currently the function\\'s output is only fully supported by Firefox.\"); } } function NetworKit_plotUpdate(source) { var index = source.getAttribute(\"data-image-index\"); var data = source.getAttribute(\"data-image-\" + index); var image = document.getElementById(source.id + \"_Image\"); image.style.backgroundImage = \"url(\" + data + \")\"; } function NetworKit_showElement(id, show) { var element = document.getElementById(id); element.style.display = (show) ? \"block\" : \"none\"; } function NetworKit_overlayShow(source) { NetworKit_overlayUpdate(source); NetworKit_showElement(\"NetworKit_Overlay\", true); } function NetworKit_overlayUpdate(source) { document.getElementById(\"NetworKit_Overlay_Title\").innerHTML = source.title; var index = source.getAttribute(\"data-image-index\"); var data = source.getAttribute(\"data-image-\" + index); var image = document.getElementById(\"NetworKit_Overlay_Image\"); image.setAttribute(\"data-id\", source.id); image.style.backgroundImage = \"url(\" + data + \")\"; var link = document.getElementById(\"NetworKit_Overlay_Toolbar_Bottom_Save\"); link.href = data; link.download = source.title + \".svg\"; } function NetworKit_overlayImageShift(delta) { var image = document.getElementById(\"NetworKit_Overlay_Image\"); var source = document.getElementById(image.getAttribute(\"data-id\")); var index = parseInt(source.getAttribute(\"data-image-index\")); var length = parseInt(source.getAttribute(\"data-image-length\")); var index = (index+delta) % length; if (index < 0) { index = length + index; } source.setAttribute(\"data-image-index\", index); NetworKit_overlayUpdate(source); } function NetworKit_toggleDetails(source) { var childs = source.children; var show = false; if (source.getAttribute(\"data-title\") == \"-\") { source.setAttribute(\"data-title\", \"+\"); show = false; } else { source.setAttribute(\"data-title\", \"-\"); show = true; } for (i=0; i<childs.length; i++) { if (show) { childs[i].style.display = \"block\"; } else { childs[i].style.display = \"none\"; } } }';\n",
       "\t\t\t\telement.setAttribute('id', 'NetworKit_script');\n",
       "\t\t\t\tdocument.head.appendChild(element);\n",
       "\t\t\t}\n",
       "\t\t\n",
       "\t\t\t\t\n",
       "\t\t\t{\n",
       "\t\t\t\tvar element = document.getElementById('NetworKit_style');\n",
       "\t\t\t\tif (element) {\n",
       "\t\t\t\t\telement.parentNode.removeChild(element);\n",
       "\t\t\t\t}\n",
       "\t\t\t\telement = document.createElement('style');\n",
       "\t\t\t\telement.type = 'text/css';\n",
       "\t\t\t\telement.innerHTML = '.NetworKit_Page { font-family: Arial, Helvetica, sans-serif; font-size: 14px; } .NetworKit_Page .Value:before { font-family: Arial, Helvetica, sans-serif; font-size: 1.05em; content: attr(data-title) \":\"; margin-left: -2.5em; padding-right: 0.5em; } .NetworKit_Page .Details .Value:before { display: block; } .NetworKit_Page .Value { font-family: monospace; white-space: pre; padding-left: 2.5em; white-space: -moz-pre-wrap !important; white-space: -pre-wrap; white-space: -o-pre-wrap; white-space: pre-wrap; word-wrap: break-word; tab-size: 4; -moz-tab-size: 4; } .NetworKit_Page .Category { clear: both; padding-left: 1em; margin-bottom: 1.5em; } .NetworKit_Page .Category:before { content: attr(data-title); font-size: 1.75em; display: block; margin-left: -0.8em; margin-bottom: 0.5em; } .NetworKit_Page .SubCategory { margin-bottom: 1.5em; padding-left: 1em; } .NetworKit_Page .SubCategory:before { font-size: 1.6em; display: block; margin-left: -0.8em; margin-bottom: 0.5em; } .NetworKit_Page .SubCategory[data-title]:before { content: attr(data-title); } .NetworKit_Page .Block { display: block; } .NetworKit_Page .Block:after { content: \".\"; visibility: hidden; display: block; height: 0; clear: both; } .NetworKit_Page .Block .Thumbnail_Overview, .NetworKit_Page .Block .Thumbnail_ScatterPlot { width: 260px; float: left; } .NetworKit_Page .Block .Thumbnail_Overview img, .NetworKit_Page .Block .Thumbnail_ScatterPlot img { width: 260px; } .NetworKit_Page .Block .Thumbnail_Overview:before, .NetworKit_Page .Block .Thumbnail_ScatterPlot:before { display: block; text-align: center; font-weight: bold; } .NetworKit_Page .Block .Thumbnail_Overview:before { content: attr(data-title); } .NetworKit_Page .HeatCell { font-family: \"Courier New\", Courier, monospace; cursor: pointer; } .NetworKit_Page .HeatCell, .NetworKit_Page .HeatCellName { display: inline; padding: 0.1em; margin-right: 2px; background-color: #FFFFFF } .NetworKit_Page .HeatCellName { margin-left: 0.25em; } .NetworKit_Page .HeatCell:before { content: attr(data-heat); display: inline-block; color: #000000; width: 4em; text-align: center; } .NetworKit_Page .Measure { clear: both; } .NetworKit_Page .Measure .Details { cursor: pointer; } .NetworKit_Page .Measure .Details:before { content: \"[\" attr(data-title) \"]\"; display: block; } .NetworKit_Page .Measure .Details .Value { border-left: 1px dotted black; margin-left: 0.4em; padding-left: 3.5em; pointer-events: none; } .NetworKit_Page .Measure .Details .Spacer:before { content: \".\"; opacity: 0.0; pointer-events: none; } .NetworKit_Page .Measure .Plot { width: 440px; height: 440px; cursor: pointer; float: left; margin-left: -0.9em; margin-right: 20px; } .NetworKit_Page .Measure .Plot .Image { background-repeat: no-repeat; background-position: center center; background-size: contain; height: 100%; pointer-events: none; } .NetworKit_Page .Measure .Stat { width: 500px; float: left; } .NetworKit_Page .Measure .Stat .Group { padding-left: 1.25em; margin-bottom: 0.75em; } .NetworKit_Page .Measure .Stat .Group .Title { font-size: 1.1em; display: block; margin-bottom: 0.3em; margin-left: -0.75em; border-right-style: dotted; border-right-width: 1px; border-bottom-style: dotted; border-bottom-width: 1px; background-color: #D0D0D0; padding-left: 0.2em; } .NetworKit_Page .Measure .Stat .Group .List { -webkit-column-count: 3; -moz-column-count: 3; column-count: 3; } .NetworKit_Page .Measure .Stat .Group .List .Entry { position: relative; line-height: 1.75em; } .NetworKit_Page .Measure .Stat .Group .List .Entry[data-tooltip]:before { position: absolute; left: 0; top: -40px; background-color: #808080; color: #ffffff; height: 30px; line-height: 30px; border-radius: 5px; padding: 0 15px; content: attr(data-tooltip); white-space: nowrap; display: none; } .NetworKit_Page .Measure .Stat .Group .List .Entry[data-tooltip]:after { position: absolute; left: 15px; top: -10px; border-top: 7px solid #808080; border-left: 7px solid transparent; border-right: 7px solid transparent; content: \"\"; display: none; } .NetworKit_Page .Measure .Stat .Group .List .Entry[data-tooltip]:hover:after, .NetworKit_Page .Measure .Stat .Group .List .Entry[data-tooltip]:hover:before { display: block; } .NetworKit_Page .Measure .Stat .Group .List .Entry .MathValue { font-family: \"Courier New\", Courier, monospace; } .NetworKit_Page .Measure:after { content: \".\"; visibility: hidden; display: block; height: 0; clear: both; } .NetworKit_Page .PartitionPie { clear: both; } .NetworKit_Page .PartitionPie img { width: 600px; } #NetworKit_Overlay { left: 0px; top: 0px; display: none; position: absolute; width: 100%; height: 100%; background-color: rgba(0,0,0,0.6); z-index: 1000; } #NetworKit_Overlay_Title { position: absolute; color: white; transform: rotate(-90deg); width: 32em; height: 32em; padding-right: 0.5em; padding-top: 0.5em; text-align: right; font-size: 40px; } #NetworKit_Overlay .button { background: white; cursor: pointer; } #NetworKit_Overlay .button:before { size: 13px; display: inline-block; text-align: center; margin-top: 0.5em; margin-bottom: 0.5em; width: 1.5em; height: 1.5em; } #NetworKit_Overlay .icon-close:before { content: \"X\"; } #NetworKit_Overlay .icon-previous:before { content: \"P\"; } #NetworKit_Overlay .icon-next:before { content: \"N\"; } #NetworKit_Overlay .icon-save:before { content: \"S\"; } #NetworKit_Overlay_Toolbar_Top, #NetworKit_Overlay_Toolbar_Bottom { position: absolute; width: 40px; right: 13px; text-align: right; z-index: 1100; } #NetworKit_Overlay_Toolbar_Top { top: 0.5em; } #NetworKit_Overlay_Toolbar_Bottom { Bottom: 0.5em; } #NetworKit_Overlay_ImageContainer { position: absolute; top: 5%; left: 5%; height: 90%; width: 90%; background-repeat: no-repeat; background-position: center center; background-size: contain; } #NetworKit_Overlay_Image { height: 100%; width: 100%; background-repeat: no-repeat; background-position: center center; background-size: contain; }';\n",
       "\t\t\t\telement.setAttribute('id', 'NetworKit_style');\n",
       "\t\t\t\tdocument.head.appendChild(element);\n",
       "\t\t\t}\n",
       "\t\t\n",
       "\t\t\t\t\n",
       "\t\t\t{\n",
       "\t\t\t\tvar element = document.getElementById('NetworKit_Overlay');\n",
       "\t\t\t\tif (element) {\n",
       "\t\t\t\t\telement.parentNode.removeChild(element);\n",
       "\t\t\t\t}\n",
       "\t\t\t\telement = document.createElement('div');\n",
       "\t\t\t\telement.innerHTML = '<div id=\"NetworKit_Overlay_Toolbar_Top\"><div class=\"button icon-close\" id=\"NetworKit_Overlay_Close\" /></div><div id=\"NetworKit_Overlay_Title\" /> <div id=\"NetworKit_Overlay_ImageContainer\"> <div id=\"NetworKit_Overlay_Image\" /> </div> <div id=\"NetworKit_Overlay_Toolbar_Bottom\"> <div class=\"button icon-previous\" onclick=\"NetworKit_overlayImageShift(-1)\" /> <div class=\"button icon-next\" onclick=\"NetworKit_overlayImageShift(1)\" /> <a id=\"NetworKit_Overlay_Toolbar_Bottom_Save\"><div class=\"button icon-save\" /></a> </div>';\n",
       "\t\t\t\telement.setAttribute('id', 'NetworKit_Overlay');\n",
       "\t\t\t\tdocument.body.appendChild(element);\n",
       "\t\t\t\tdocument.getElementById('NetworKit_Overlay_Close').onclick = function (e) {\n",
       "\t\t\t\t\tdocument.getElementById('NetworKit_Overlay').style.display = 'none';\n",
       "\t\t\t\t}\n",
       "\t\t\t}\n",
       "\t\t\n",
       "\t\t\t-->\n",
       "\t\t\t</script>\n",
       "\t\t"
      ]
     },
     "metadata": {},
     "output_type": "display_data"
    }
   ],
   "source": [
    "import pandas as pd\n",
    "import numpy as np\n",
    "import json\n",
    "import os\n",
    "import gc\n",
    "\n",
    "# Network analysis\n",
    "import networkit as nk  \n",
    "\n",
    "\n",
    "# Visualization\n",
    "import matplotlib.cm as cm\n",
    "import matplotlib.pyplot as plt\n",
    "\n",
    "from keplergl import KeplerGl\n"
   ]
  },
  {
   "cell_type": "code",
   "execution_count": 3,
   "metadata": {},
   "outputs": [],
   "source": [
    "BLUE = (0.5529411764705883, 0.6274509803921569, 0.796078431372549)\n",
    "PATH = \"data/\""
   ]
  },
  {
   "cell_type": "code",
   "execution_count": 4,
   "metadata": {},
   "outputs": [],
   "source": [
    "with open('bike_stations_encoded.json') as f:\n",
    "    bike_station_en = json.load(f)"
   ]
  },
  {
   "cell_type": "markdown",
   "metadata": {},
   "source": [
    "# 2. Load dataset\n",
    "`bike_share_baires` has information about each ride from 2019 to 2023.\n",
    "\n",
    "`bike_station_name` has information about station name.\n"
   ]
  },
  {
   "cell_type": "code",
   "execution_count": 6,
   "metadata": {},
   "outputs": [],
   "source": [
    "df_bike_trip = pd.read_parquet(os.path.join(PATH, \"bike_share_baires.parquet\"), columns=['rout_id', 'duration', 'departure_station_id',\n",
    "       'departure_long', 'departure_lat', 'return_station_id', 'return_station_long', 'return_station_lat', 'year'])"
   ]
  },
  {
   "cell_type": "code",
   "execution_count": 7,
   "metadata": {},
   "outputs": [],
   "source": [
    "df_bike_trip['departure_station_id'] = df_bike_trip['departure_station_id'].map(bike_station_en)\n",
    "df_bike_trip['return_station_id'] = df_bike_trip['return_station_id'].map(bike_station_en)"
   ]
  },
  {
   "cell_type": "code",
   "execution_count": 8,
   "metadata": {},
   "outputs": [],
   "source": [
    "df_departure_station = pd.read_csv(os.path.join(PATH, \"bike_station_name.csv\"))\n",
    "df_departure_station.columns = ['departure_station_id', 'departure_station_name']"
   ]
  },
  {
   "cell_type": "code",
   "execution_count": 9,
   "metadata": {},
   "outputs": [],
   "source": [
    "df_bike_station = pd.read_csv(os.path.join(PATH, \"bike_station_name.csv\"))"
   ]
  },
  {
   "cell_type": "code",
   "execution_count": 10,
   "metadata": {},
   "outputs": [],
   "source": [
    "df_return_station = pd.read_csv(os.path.join(PATH, \"bike_station_name.csv\"))\n",
    "df_return_station.columns = ['return_station_id', 'return_station_name']"
   ]
  },
  {
   "cell_type": "code",
   "execution_count": 11,
   "metadata": {},
   "outputs": [],
   "source": [
    "df_bike_trip = pd.merge(df_bike_trip, df_departure_station, on=['departure_station_id'], how='left')\n",
    "df_bike_trip = pd.merge(df_bike_trip, df_return_station, on=['return_station_id'], how='left')"
   ]
  },
  {
   "cell_type": "code",
   "execution_count": 12,
   "metadata": {},
   "outputs": [],
   "source": [
    "df_bike_trip = df_bike_trip[(df_bike_trip['departure_station_id']!=50) & (df_bike_trip['departure_station_id']!=53) & (df_bike_trip['return_station_id']!=50) & (df_bike_trip['return_station_id']!=53)]"
   ]
  },
  {
   "cell_type": "code",
   "execution_count": 13,
   "metadata": {},
   "outputs": [
    {
     "data": {
      "text/html": [
       "<div>\n",
       "<style scoped>\n",
       "    .dataframe tbody tr th:only-of-type {\n",
       "        vertical-align: middle;\n",
       "    }\n",
       "\n",
       "    .dataframe tbody tr th {\n",
       "        vertical-align: top;\n",
       "    }\n",
       "\n",
       "    .dataframe thead th {\n",
       "        text-align: right;\n",
       "    }\n",
       "</style>\n",
       "<table border=\"1\" class=\"dataframe\">\n",
       "  <thead>\n",
       "    <tr style=\"text-align: right;\">\n",
       "      <th></th>\n",
       "      <th>rout_id</th>\n",
       "      <th>duration</th>\n",
       "      <th>departure_station_id</th>\n",
       "      <th>departure_long</th>\n",
       "      <th>departure_lat</th>\n",
       "      <th>return_station_id</th>\n",
       "      <th>return_station_long</th>\n",
       "      <th>return_station_lat</th>\n",
       "      <th>year</th>\n",
       "      <th>departure_station_name</th>\n",
       "      <th>return_station_name</th>\n",
       "    </tr>\n",
       "  </thead>\n",
       "  <tbody>\n",
       "    <tr>\n",
       "      <th>4135909</th>\n",
       "      <td>4037692BAEcobici</td>\n",
       "      <td>47.450000</td>\n",
       "      <td>361</td>\n",
       "      <td>-58.448011</td>\n",
       "      <td>-34.601852</td>\n",
       "      <td>85</td>\n",
       "      <td>-58.426395</td>\n",
       "      <td>-34.607892</td>\n",
       "      <td>2019</td>\n",
       "      <td>306 - Tres Arroyos Y Olaya</td>\n",
       "      <td>082 - HOSPITAL ITALIANO</td>\n",
       "    </tr>\n",
       "    <tr>\n",
       "      <th>5776706</th>\n",
       "      <td>6708984BAEcobici</td>\n",
       "      <td>7.766667</td>\n",
       "      <td>395</td>\n",
       "      <td>-58.459881</td>\n",
       "      <td>-34.547758</td>\n",
       "      <td>212</td>\n",
       "      <td>-58.448314</td>\n",
       "      <td>-34.559801</td>\n",
       "      <td>2019</td>\n",
       "      <td>288- 11 de septiembre</td>\n",
       "      <td>255 - BARRANCAS DE BELGRANO</td>\n",
       "    </tr>\n",
       "    <tr>\n",
       "      <th>12563377</th>\n",
       "      <td>14709554BAEcobici</td>\n",
       "      <td>6.583333</td>\n",
       "      <td>106</td>\n",
       "      <td>-58.406165</td>\n",
       "      <td>-34.590863</td>\n",
       "      <td>108</td>\n",
       "      <td>-58.413871</td>\n",
       "      <td>-34.594547</td>\n",
       "      <td>2022</td>\n",
       "      <td>193 - ARENALES Y AGUERO</td>\n",
       "      <td>066 - Billinghurst</td>\n",
       "    </tr>\n",
       "    <tr>\n",
       "      <th>15068063</th>\n",
       "      <td>17884380BAEcobici</td>\n",
       "      <td>16.150000</td>\n",
       "      <td>0</td>\n",
       "      <td>-58.420954</td>\n",
       "      <td>-34.580550</td>\n",
       "      <td>146</td>\n",
       "      <td>-58.428509</td>\n",
       "      <td>-34.601173</td>\n",
       "      <td>2023</td>\n",
       "      <td>005 - Plaza Italia</td>\n",
       "      <td>121 - YATAY</td>\n",
       "    </tr>\n",
       "    <tr>\n",
       "      <th>4595955</th>\n",
       "      <td>4772656BAEcobici</td>\n",
       "      <td>25.666667</td>\n",
       "      <td>252</td>\n",
       "      <td>-58.442940</td>\n",
       "      <td>-34.552594</td>\n",
       "      <td>436</td>\n",
       "      <td>-58.495218</td>\n",
       "      <td>-34.565709</td>\n",
       "      <td>2019</td>\n",
       "      <td>248 - Husares</td>\n",
       "      <td>234 - AVENIDA TRIUNVIRATO</td>\n",
       "    </tr>\n",
       "    <tr>\n",
       "      <th>11080104</th>\n",
       "      <td>12532337BAEcobici</td>\n",
       "      <td>21.700000</td>\n",
       "      <td>202</td>\n",
       "      <td>-58.448540</td>\n",
       "      <td>-34.606984</td>\n",
       "      <td>39</td>\n",
       "      <td>-58.444327</td>\n",
       "      <td>-34.580975</td>\n",
       "      <td>2021</td>\n",
       "      <td>275 - PLAZA 24 DE SEPTIEMBRE</td>\n",
       "      <td>020 - DISTRITO AUDIOVISUAL</td>\n",
       "    </tr>\n",
       "    <tr>\n",
       "      <th>5882460</th>\n",
       "      <td>6456823BAEcobici</td>\n",
       "      <td>22.050000</td>\n",
       "      <td>94</td>\n",
       "      <td>-58.407614</td>\n",
       "      <td>-34.597048</td>\n",
       "      <td>167</td>\n",
       "      <td>-58.420628</td>\n",
       "      <td>-34.572583</td>\n",
       "      <td>2019</td>\n",
       "      <td>165 - PLAZA MONSEÑOR MIGUEL DE ANDREA</td>\n",
       "      <td>160 - Godoy Cruz y Libertador</td>\n",
       "    </tr>\n",
       "    <tr>\n",
       "      <th>9911686</th>\n",
       "      <td>11269031BAEcobici</td>\n",
       "      <td>11.850000</td>\n",
       "      <td>174</td>\n",
       "      <td>-58.450897</td>\n",
       "      <td>-34.552571</td>\n",
       "      <td>203</td>\n",
       "      <td>-58.420621</td>\n",
       "      <td>-34.565337</td>\n",
       "      <td>2021</td>\n",
       "      <td>261 - QUINTEROS LIDORO</td>\n",
       "      <td>391 - Plaza República de Ecuador</td>\n",
       "    </tr>\n",
       "    <tr>\n",
       "      <th>14079987</th>\n",
       "      <td>16622451BAEcobici</td>\n",
       "      <td>9.633333</td>\n",
       "      <td>283</td>\n",
       "      <td>-58.399016</td>\n",
       "      <td>-34.598404</td>\n",
       "      <td>25</td>\n",
       "      <td>-58.379836</td>\n",
       "      <td>-34.600139</td>\n",
       "      <td>2022</td>\n",
       "      <td>131- HOSPITAL DE CLÍNICAS</td>\n",
       "      <td>023 - Suipacha</td>\n",
       "    </tr>\n",
       "    <tr>\n",
       "      <th>5400292</th>\n",
       "      <td>5633730BAEcobici</td>\n",
       "      <td>18.833333</td>\n",
       "      <td>71</td>\n",
       "      <td>-58.402589</td>\n",
       "      <td>-34.592171</td>\n",
       "      <td>213</td>\n",
       "      <td>-58.446000</td>\n",
       "      <td>-34.605118</td>\n",
       "      <td>2019</td>\n",
       "      <td>116 - HOSPITAL ALEMÁN</td>\n",
       "      <td>384 - PLAZA BENITO NAZAR</td>\n",
       "    </tr>\n",
       "  </tbody>\n",
       "</table>\n",
       "</div>"
      ],
      "text/plain": [
       "                    rout_id   duration  departure_station_id  departure_long  \\\n",
       "4135909    4037692BAEcobici  47.450000                   361      -58.448011   \n",
       "5776706    6708984BAEcobici   7.766667                   395      -58.459881   \n",
       "12563377  14709554BAEcobici   6.583333                   106      -58.406165   \n",
       "15068063  17884380BAEcobici  16.150000                     0      -58.420954   \n",
       "4595955    4772656BAEcobici  25.666667                   252      -58.442940   \n",
       "11080104  12532337BAEcobici  21.700000                   202      -58.448540   \n",
       "5882460    6456823BAEcobici  22.050000                    94      -58.407614   \n",
       "9911686   11269031BAEcobici  11.850000                   174      -58.450897   \n",
       "14079987  16622451BAEcobici   9.633333                   283      -58.399016   \n",
       "5400292    5633730BAEcobici  18.833333                    71      -58.402589   \n",
       "\n",
       "          departure_lat  return_station_id  return_station_long  \\\n",
       "4135909      -34.601852                 85           -58.426395   \n",
       "5776706      -34.547758                212           -58.448314   \n",
       "12563377     -34.590863                108           -58.413871   \n",
       "15068063     -34.580550                146           -58.428509   \n",
       "4595955      -34.552594                436           -58.495218   \n",
       "11080104     -34.606984                 39           -58.444327   \n",
       "5882460      -34.597048                167           -58.420628   \n",
       "9911686      -34.552571                203           -58.420621   \n",
       "14079987     -34.598404                 25           -58.379836   \n",
       "5400292      -34.592171                213           -58.446000   \n",
       "\n",
       "          return_station_lat  year                 departure_station_name  \\\n",
       "4135909           -34.607892  2019             306 - Tres Arroyos Y Olaya   \n",
       "5776706           -34.559801  2019                  288- 11 de septiembre   \n",
       "12563377          -34.594547  2022                193 - ARENALES Y AGUERO   \n",
       "15068063          -34.601173  2023                     005 - Plaza Italia   \n",
       "4595955           -34.565709  2019                          248 - Husares   \n",
       "11080104          -34.580975  2021           275 - PLAZA 24 DE SEPTIEMBRE   \n",
       "5882460           -34.572583  2019  165 - PLAZA MONSEÑOR MIGUEL DE ANDREA   \n",
       "9911686           -34.565337  2021                 261 - QUINTEROS LIDORO   \n",
       "14079987          -34.600139  2022              131- HOSPITAL DE CLÍNICAS   \n",
       "5400292           -34.605118  2019                  116 - HOSPITAL ALEMÁN   \n",
       "\n",
       "                       return_station_name  \n",
       "4135909            082 - HOSPITAL ITALIANO  \n",
       "5776706        255 - BARRANCAS DE BELGRANO  \n",
       "12563377                066 - Billinghurst  \n",
       "15068063                       121 - YATAY  \n",
       "4595955          234 - AVENIDA TRIUNVIRATO  \n",
       "11080104        020 - DISTRITO AUDIOVISUAL  \n",
       "5882460      160 - Godoy Cruz y Libertador  \n",
       "9911686   391 - Plaza República de Ecuador  \n",
       "14079987                    023 - Suipacha  \n",
       "5400292           384 - PLAZA BENITO NAZAR  "
      ]
     },
     "execution_count": 13,
     "metadata": {},
     "output_type": "execute_result"
    }
   ],
   "source": [
    "df_bike_trip.sample(10)"
   ]
  },
  {
   "cell_type": "code",
   "execution_count": 13,
   "metadata": {},
   "outputs": [],
   "source": [
    "df_bike_station_geo = df_bike_trip[['departure_station_id', 'departure_lat', 'departure_long']].drop_duplicates(['departure_station_id'])\n",
    "df_bike_station_geo.columns = ['station_id', 'lat', 'long']"
   ]
  },
  {
   "attachments": {},
   "cell_type": "markdown",
   "metadata": {},
   "source": [
    "# 3.  Graph Object instance \n",
    "\n",
    "Here we define our Graphs which we are going to work with. Since the bike system has changed over the years we are going to build a network for each year."
   ]
  },
  {
   "cell_type": "code",
   "execution_count": 70,
   "metadata": {},
   "outputs": [],
   "source": [
    "def bikeGraph(dataframe, year=None, weight='count', directed=True):\n",
    "\n",
    "\n",
    "    if year is None:\n",
    "        df = df_bike_trip.copy()\n",
    "    else: \n",
    "        df = df_bike_trip[df_bike_trip['year']==year].copy()\n",
    "\n",
    "\n",
    "    # aggregating data\n",
    "    # creating pairs\n",
    "    # if 457 station, then we make a lot of pairs.\n",
    "    origins = df['departure_station_id'].unique().tolist()\n",
    "    destins = df['return_station_id'].unique().tolist()\n",
    "\n",
    "    # creating pairs of trips\n",
    "    pairs_list=[]\n",
    "    for origin in origins:\n",
    "        for destin in destins:\n",
    "            stat_pair = (origin, destin)\n",
    "            \n",
    "            pairs_list.append(stat_pair)\n",
    "    routes_list = list(range(len(pairs_list)))\n",
    "    # dictionary with pairs and ID\n",
    "    routes_dict = dict(zip(pairs_list, routes_list))\n",
    "\n",
    "    # adding a columns with station pairs\n",
    "    df['pairs'] = [(orID, deID) for orID, deID in zip(df['departure_station_id'].to_list(),\n",
    "                                                                    df['return_station_id'].to_list())]\n",
    "\n",
    "    df[\"path_id\"] = df['pairs'].map(routes_dict)\n",
    "    df[\"path_id\"] = df[\"path_id\"].astype(\"category\")\n",
    "    df = df.dropna()\n",
    "\n",
    "    assert weight in ['count', 'duration'], f\"'{weight}' not found in model dispatcher. Try with 'count' or 'duration'.\"\n",
    "\n",
    "    if weight == 'count':\n",
    "        df_agg = df.groupby(\"pairs\").agg({\"departure_station_id\": \"max\",  \"return_station_id\": \"max\", \"pairs\": \"count\"\n",
    "        })\n",
    "    else :\n",
    "        df_agg = df.groupby(\"pairs\").agg({\"departure_station_id\": \"max\",  \"return_station_id\": \"max\", \"duration\": \"mean\"\n",
    "        })\n",
    "\n",
    "\n",
    "    df_agg.columns = ['departure_station_id', 'return_station_id', 'weight']\n",
    "\n",
    "    \n",
    "    # Graphs\n",
    "    G = nk.graph.Graph(weighted=True, directed=directed)\n",
    "    num_nodes = max(df_agg['departure_station_id'].max() ,df_agg['return_station_id'].max()) + 1\n",
    "    for i in range(num_nodes):\n",
    "        G.addNode()\n",
    "    \n",
    "    for idx, row in df_agg.iterrows():\n",
    "        G.addEdge(row['departure_station_id'], row['return_station_id'], row['weight'])\n",
    "\n",
    "    # remove isoloted nodes (fix problem with station id that change over year)\n",
    "    for u in G.iterNodes():\n",
    "        if G.isIsolated(u):\n",
    "            G.removeNode(u)\n",
    "\n",
    "    return G\n"
   ]
  },
  {
   "cell_type": "code",
   "execution_count": 17,
   "metadata": {},
   "outputs": [
    {
     "name": "stdout",
     "output_type": "stream",
     "text": [
      "Year: 2019\n",
      "Number of nodes:  409  - Number of edges:  138660  - Number of self loops:  409\n"
     ]
    }
   ],
   "source": [
    "G2019 = bikeGraph(df_bike_trip, 2019, weight='count')\n",
    "print(\"Year: 2019\")\n",
    "print(\"Number of nodes: \", G2019.numberOfNodes(), \" - Number of edges: \", G2019.numberOfEdges(), \" - Number of self loops: \", G2019.numberOfSelfLoops())"
   ]
  },
  {
   "cell_type": "code",
   "execution_count": 18,
   "metadata": {},
   "outputs": [
    {
     "name": "stdout",
     "output_type": "stream",
     "text": [
      "Year: 2020\n",
      "Number of nodes:  398  - Number of edges:  94192  - Number of self loops:  398\n"
     ]
    }
   ],
   "source": [
    "G2020 = bikeGraph(df_bike_trip, 2020, weight='count')\n",
    "print(\"Year: 2020\")\n",
    "print(\"Number of nodes: \", G2020.numberOfNodes(), \" - Number of edges: \", G2020.numberOfEdges(), \" - Number of self loops: \", G2020.numberOfSelfLoops())"
   ]
  },
  {
   "cell_type": "code",
   "execution_count": 19,
   "metadata": {},
   "outputs": [
    {
     "name": "stdout",
     "output_type": "stream",
     "text": [
      "Year: 2021\n",
      "Number of nodes:  274  - Number of edges:  51106  - Number of self loops:  274\n"
     ]
    }
   ],
   "source": [
    "G2021 = bikeGraph(df_bike_trip, 2021, weight='count')\n",
    "print(\"Year: 2021\")\n",
    "print(\"Number of nodes: \", G2021.numberOfNodes(), \" - Number of edges: \", G2021.numberOfEdges(), \" - Number of self loops: \", G2021.numberOfSelfLoops())"
   ]
  },
  {
   "cell_type": "code",
   "execution_count": 20,
   "metadata": {},
   "outputs": [
    {
     "name": "stdout",
     "output_type": "stream",
     "text": [
      "Year: 2022\n",
      "Number of nodes:  329  - Number of edges:  68813  - Number of self loops:  328\n"
     ]
    }
   ],
   "source": [
    "G2022 = bikeGraph(df_bike_trip, 2022, weight='count')\n",
    "print(\"Year: 2022\")\n",
    "print(\"Number of nodes: \", G2022.numberOfNodes(), \" - Number of edges: \", G2022.numberOfEdges(), \" - Number of self loops: \", G2022.numberOfSelfLoops())"
   ]
  },
  {
   "cell_type": "code",
   "execution_count": 138,
   "metadata": {},
   "outputs": [
    {
     "name": "stdout",
     "output_type": "stream",
     "text": [
      "Year: 2023\n",
      "Number of nodes:  321  - Number of edges:  54069  - Number of self loops:  320\n"
     ]
    }
   ],
   "source": [
    "G2023 = bikeGraph(df_bike_trip, 2023, weight='count')\n",
    "print(\"Year: 2023\")\n",
    "print(\"Number of nodes: \", G2023.numberOfNodes(), \" - Number of edges: \", G2023.numberOfEdges(), \" - Number of self loops: \", G2023.numberOfSelfLoops())"
   ]
  },
  {
   "cell_type": "markdown",
   "metadata": {},
   "source": [
    "We can see that some changes are obvios in respecto to the number of nodes and edges over the years. In 2019 we observe the most number of vertices and edges and also how it has reduced in the last years as seen before in the previous analysis.\n",
    "\n",
    "Most of the nodes have a self loop, because most trips start and end in the same station. "
   ]
  },
  {
   "cell_type": "markdown",
   "metadata": {},
   "source": [
    "# 4. Degree Distribution\n",
    "Node degree or the number of edges connected to a node, is one of the most studied properties of the network. Types of networks are often characterized in terms of their distribution of node degrees. We obtain and visualize the degree distribution of our example network as follows."
   ]
  },
  {
   "cell_type": "code",
   "execution_count": 26,
   "metadata": {},
   "outputs": [],
   "source": [
    "def centralityDegreeDist(G):\n",
    "    \"\"\"\n",
    "    Centrality degree distribution\n",
    "    \"\"\"\n",
    "    # Degree\n",
    "    dd = sorted(nk.centrality.DegreeCentrality(G).run().scores(), reverse=True)\n",
    "    deg, cnt = np.unique(dd, return_counts=True)\n",
    "\n",
    "    # Figure\n",
    "    fig, ax = plt.subplots(figsize=(10,5))\n",
    "    plt.bar(deg[1:], cnt[1:], width=1, color=BLUE)\n",
    "    #plt.axvline(x = np.median(deg), color=\"blue\", linestyle='-', linewidth=1) # Degree Median\n",
    "\n",
    "    # Labeling\n",
    "    plt.title(\"Buenos Aires City Bike Network Degree Distribution\")\n",
    "    plt.ylabel(\"Number of nodes\")\n",
    "    plt.xlabel(\"Degree\")\n",
    "\n",
    "   \n",
    "\n",
    "    plt.show()"
   ]
  },
  {
   "cell_type": "code",
   "execution_count": 30,
   "metadata": {},
   "outputs": [
    {
     "data": {
      "image/png": "[encoded data removed]",
      "text/plain": [
       "<Figure size 1000x500 with 1 Axes>"
      ]
     },
     "metadata": {},
     "output_type": "display_data"
    }
   ],
   "source": [
    "centralityDegreeDist(G2019)"
   ]
  },
  {
   "cell_type": "code",
   "execution_count": 31,
   "metadata": {},
   "outputs": [
    {
     "data": {
      "image/png": "[encoded data removed]",
      "text/plain": [
       "<Figure size 1000x500 with 1 Axes>"
      ]
     },
     "metadata": {},
     "output_type": "display_data"
    }
   ],
   "source": [
    "centralityDegreeDist(G2020)"
   ]
  },
  {
   "cell_type": "code",
   "execution_count": 32,
   "metadata": {},
   "outputs": [
    {
     "data": {
      "image/png": "[encoded data removed]",
      "text/plain": [
       "<Figure size 1000x500 with 1 Axes>"
      ]
     },
     "metadata": {},
     "output_type": "display_data"
    }
   ],
   "source": [
    "centralityDegreeDist(G2021)"
   ]
  },
  {
   "cell_type": "code",
   "execution_count": 33,
   "metadata": {},
   "outputs": [
    {
     "data": {
      "image/png": "[encoded data removed]",
      "text/plain": [
       "<Figure size 1000x500 with 1 Axes>"
      ]
     },
     "metadata": {},
     "output_type": "display_data"
    }
   ],
   "source": [
    "centralityDegreeDist(G2022)"
   ]
  },
  {
   "cell_type": "code",
   "execution_count": 34,
   "metadata": {},
   "outputs": [
    {
     "data": {
      "image/png": "[encoded data removed]",
      "text/plain": [
       "<Figure size 1000x500 with 1 Axes>"
      ]
     },
     "metadata": {},
     "output_type": "display_data"
    }
   ],
   "source": [
    "centralityDegreeDist(G2023)"
   ]
  },
  {
   "cell_type": "markdown",
   "metadata": {},
   "source": [
    "As you can se above. Centrality degree has changed over the year.\n",
    "\n",
    "- En 2019 encontramos el mayor numero nodos con alto numero de grado de centralidad y la mayoria se concentra entre 250 y 400\n",
    "- In 2019 we find a major number of nodes with high number of degree within the center, and most are concentrated between 250 and 400.\n",
    "- \n",
    "- En 2020 (lockdown) cambia en el grado de distribucion de los nodos. La mayoria se concentra entre 150 y 350 grados. Se ve claramente una reduccion en el numero de ejes entre nodos.\n",
    "- En 2021 se reduce el numero de grados a 270 en comparacion a los años anteriores. El pico maximo de nodos con mayor numero de grados se reduce a una unidad. \n",
    "- En 2022 vuelve aumentar el numero de grados y los nodos con respecto al año anterior.\n",
    "- En 2023 se observa una distribucion similar al año 2022. Hay un decaimiento en el numero de nodos y grados con respecto a este, pero es atribuible al hecho de que hasta la fecha no esta completa toda la informacion. "
   ]
  },
  {
   "cell_type": "code",
   "execution_count": 22,
   "metadata": {},
   "outputs": [],
   "source": [
    "# Degree\n",
    "dd = sorted(nk.centrality.DegreeCentrality(G2019).run().scores(), reverse=True)\n",
    "deg, cnt = np.unique(dd, return_counts=True)"
   ]
  },
  {
   "cell_type": "code",
   "execution_count": 24,
   "metadata": {},
   "outputs": [
    {
     "data": {
      "text/html": [
       "<div>\n",
       "<style scoped>\n",
       "    .dataframe tbody tr th:only-of-type {\n",
       "        vertical-align: middle;\n",
       "    }\n",
       "\n",
       "    .dataframe tbody tr th {\n",
       "        vertical-align: top;\n",
       "    }\n",
       "\n",
       "    .dataframe thead th {\n",
       "        text-align: right;\n",
       "    }\n",
       "</style>\n",
       "<table border=\"1\" class=\"dataframe\">\n",
       "  <thead>\n",
       "    <tr style=\"text-align: right;\">\n",
       "      <th></th>\n",
       "      <th>station_id</th>\n",
       "      <th>degree</th>\n",
       "      <th>station_name</th>\n",
       "    </tr>\n",
       "  </thead>\n",
       "  <tbody>\n",
       "    <tr>\n",
       "      <th>9</th>\n",
       "      <td>9</td>\n",
       "      <td>405</td>\n",
       "      <td>029 - Parque Centenario</td>\n",
       "    </tr>\n",
       "    <tr>\n",
       "      <th>30</th>\n",
       "      <td>30</td>\n",
       "      <td>404</td>\n",
       "      <td>014 - Pacifico</td>\n",
       "    </tr>\n",
       "    <tr>\n",
       "      <th>28</th>\n",
       "      <td>28</td>\n",
       "      <td>402</td>\n",
       "      <td>054 - Acuña de Figueroa</td>\n",
       "    </tr>\n",
       "    <tr>\n",
       "      <th>143</th>\n",
       "      <td>145</td>\n",
       "      <td>401</td>\n",
       "      <td>134 - SOLDADO DE LA FRONTERA</td>\n",
       "    </tr>\n",
       "    <tr>\n",
       "      <th>91</th>\n",
       "      <td>93</td>\n",
       "      <td>401</td>\n",
       "      <td>161 - Humahuaca</td>\n",
       "    </tr>\n",
       "    <tr>\n",
       "      <th>94</th>\n",
       "      <td>96</td>\n",
       "      <td>401</td>\n",
       "      <td>171 - Pasteur</td>\n",
       "    </tr>\n",
       "    <tr>\n",
       "      <th>7</th>\n",
       "      <td>7</td>\n",
       "      <td>401</td>\n",
       "      <td>025 - Plaza Guemes</td>\n",
       "    </tr>\n",
       "    <tr>\n",
       "      <th>41</th>\n",
       "      <td>41</td>\n",
       "      <td>401</td>\n",
       "      <td>104 - Federico Lacroze</td>\n",
       "    </tr>\n",
       "    <tr>\n",
       "      <th>0</th>\n",
       "      <td>0</td>\n",
       "      <td>400</td>\n",
       "      <td>005 - Plaza Italia</td>\n",
       "    </tr>\n",
       "    <tr>\n",
       "      <th>97</th>\n",
       "      <td>99</td>\n",
       "      <td>400</td>\n",
       "      <td>136 - Acevedo</td>\n",
       "    </tr>\n",
       "  </tbody>\n",
       "</table>\n",
       "</div>"
      ],
      "text/plain": [
       "     station_id  degree                  station_name\n",
       "9             9     405       029 - Parque Centenario\n",
       "30           30     404                014 - Pacifico\n",
       "28           28     402       054 - Acuña de Figueroa\n",
       "143         145     401  134 - SOLDADO DE LA FRONTERA\n",
       "91           93     401               161 - Humahuaca\n",
       "94           96     401                 171 - Pasteur\n",
       "7             7     401            025 - Plaza Guemes\n",
       "41           41     401        104 - Federico Lacroze\n",
       "0             0     400            005 - Plaza Italia\n",
       "97           99     400                 136 - Acevedo"
      ]
     },
     "execution_count": 24,
     "metadata": {},
     "output_type": "execute_result"
    }
   ],
   "source": [
    "df_station_degree = pd.DataFrame([(u, G2019.degree(u)) for u in G2019.iterNodes()], columns=['station_id', 'degree'])\n",
    "df_station_degree = pd.merge(df_station_degree, df_bike_station, on=['station_id'], how='inner').sort_values('degree', ascending=False)\n",
    "df_station_degree.head(10)"
   ]
  },
  {
   "cell_type": "code",
   "execution_count": 76,
   "metadata": {},
   "outputs": [
    {
     "data": {
      "text/html": [
       "<div>\n",
       "<style scoped>\n",
       "    .dataframe tbody tr th:only-of-type {\n",
       "        vertical-align: middle;\n",
       "    }\n",
       "\n",
       "    .dataframe tbody tr th {\n",
       "        vertical-align: top;\n",
       "    }\n",
       "\n",
       "    .dataframe thead th {\n",
       "        text-align: right;\n",
       "    }\n",
       "</style>\n",
       "<table border=\"1\" class=\"dataframe\">\n",
       "  <thead>\n",
       "    <tr style=\"text-align: right;\">\n",
       "      <th></th>\n",
       "      <th>station_id</th>\n",
       "      <th>degree</th>\n",
       "      <th>station_name</th>\n",
       "    </tr>\n",
       "  </thead>\n",
       "  <tbody>\n",
       "    <tr>\n",
       "      <th>29</th>\n",
       "      <td>30</td>\n",
       "      <td>306</td>\n",
       "      <td>014 - Pacifico</td>\n",
       "    </tr>\n",
       "    <tr>\n",
       "      <th>89</th>\n",
       "      <td>99</td>\n",
       "      <td>304</td>\n",
       "      <td>136 - Acevedo</td>\n",
       "    </tr>\n",
       "    <tr>\n",
       "      <th>27</th>\n",
       "      <td>28</td>\n",
       "      <td>302</td>\n",
       "      <td>054 - Acuña de Figueroa</td>\n",
       "    </tr>\n",
       "    <tr>\n",
       "      <th>104</th>\n",
       "      <td>120</td>\n",
       "      <td>300</td>\n",
       "      <td>276 - PRIMERA JUNTA</td>\n",
       "    </tr>\n",
       "    <tr>\n",
       "      <th>9</th>\n",
       "      <td>9</td>\n",
       "      <td>299</td>\n",
       "      <td>029 - Parque Centenario</td>\n",
       "    </tr>\n",
       "    <tr>\n",
       "      <th>36</th>\n",
       "      <td>37</td>\n",
       "      <td>298</td>\n",
       "      <td>017 - Plaza Almagro</td>\n",
       "    </tr>\n",
       "    <tr>\n",
       "      <th>83</th>\n",
       "      <td>93</td>\n",
       "      <td>297</td>\n",
       "      <td>161 - Humahuaca</td>\n",
       "    </tr>\n",
       "    <tr>\n",
       "      <th>32</th>\n",
       "      <td>33</td>\n",
       "      <td>296</td>\n",
       "      <td>096 - Carlos Gardel</td>\n",
       "    </tr>\n",
       "    <tr>\n",
       "      <th>0</th>\n",
       "      <td>0</td>\n",
       "      <td>294</td>\n",
       "      <td>005 - Plaza Italia</td>\n",
       "    </tr>\n",
       "    <tr>\n",
       "      <th>248</th>\n",
       "      <td>342</td>\n",
       "      <td>293</td>\n",
       "      <td>100 - Plaza Gurruchaga</td>\n",
       "    </tr>\n",
       "  </tbody>\n",
       "</table>\n",
       "</div>"
      ],
      "text/plain": [
       "     station_id  degree             station_name\n",
       "29           30     306           014 - Pacifico\n",
       "89           99     304            136 - Acevedo\n",
       "27           28     302  054 - Acuña de Figueroa\n",
       "104         120     300      276 - PRIMERA JUNTA\n",
       "9             9     299  029 - Parque Centenario\n",
       "36           37     298      017 - Plaza Almagro\n",
       "83           93     297          161 - Humahuaca\n",
       "32           33     296      096 - Carlos Gardel\n",
       "0             0     294       005 - Plaza Italia\n",
       "248         342     293   100 - Plaza Gurruchaga"
      ]
     },
     "execution_count": 76,
     "metadata": {},
     "output_type": "execute_result"
    }
   ],
   "source": [
    "df_station_degree = pd.DataFrame([(u, G2022.degree(u)) for u in G2022.iterNodes()], columns=['station_id', 'degree'])\n",
    "df_station_degree = pd.merge(df_station_degree, df_bike_station, on=['station_id'], how='inner').sort_values('degree', ascending=False)\n",
    "df_station_degree.head(10)"
   ]
  },
  {
   "cell_type": "code",
   "execution_count": 93,
   "metadata": {},
   "outputs": [
    {
     "data": {
      "text/html": [
       "<div>\n",
       "<style scoped>\n",
       "    .dataframe tbody tr th:only-of-type {\n",
       "        vertical-align: middle;\n",
       "    }\n",
       "\n",
       "    .dataframe tbody tr th {\n",
       "        vertical-align: top;\n",
       "    }\n",
       "\n",
       "    .dataframe thead th {\n",
       "        text-align: right;\n",
       "    }\n",
       "</style>\n",
       "<table border=\"1\" class=\"dataframe\">\n",
       "  <thead>\n",
       "    <tr style=\"text-align: right;\">\n",
       "      <th></th>\n",
       "      <th>station_id</th>\n",
       "      <th>degree</th>\n",
       "      <th>station_name</th>\n",
       "    </tr>\n",
       "  </thead>\n",
       "  <tbody>\n",
       "    <tr>\n",
       "      <th>29</th>\n",
       "      <td>30</td>\n",
       "      <td>269</td>\n",
       "      <td>014 - Pacifico</td>\n",
       "    </tr>\n",
       "    <tr>\n",
       "      <th>27</th>\n",
       "      <td>28</td>\n",
       "      <td>267</td>\n",
       "      <td>054 - Acuña de Figueroa</td>\n",
       "    </tr>\n",
       "    <tr>\n",
       "      <th>86</th>\n",
       "      <td>99</td>\n",
       "      <td>265</td>\n",
       "      <td>136 - Acevedo</td>\n",
       "    </tr>\n",
       "    <tr>\n",
       "      <th>0</th>\n",
       "      <td>0</td>\n",
       "      <td>263</td>\n",
       "      <td>005 - Plaza Italia</td>\n",
       "    </tr>\n",
       "    <tr>\n",
       "      <th>80</th>\n",
       "      <td>93</td>\n",
       "      <td>262</td>\n",
       "      <td>161 - Humahuaca</td>\n",
       "    </tr>\n",
       "    <tr>\n",
       "      <th>9</th>\n",
       "      <td>9</td>\n",
       "      <td>262</td>\n",
       "      <td>029 - Parque Centenario</td>\n",
       "    </tr>\n",
       "    <tr>\n",
       "      <th>315</th>\n",
       "      <td>443</td>\n",
       "      <td>260</td>\n",
       "      <td>142 - ARMENIA</td>\n",
       "    </tr>\n",
       "    <tr>\n",
       "      <th>161</th>\n",
       "      <td>212</td>\n",
       "      <td>259</td>\n",
       "      <td>255 - BARRANCAS DE BELGRANO</td>\n",
       "    </tr>\n",
       "    <tr>\n",
       "      <th>35</th>\n",
       "      <td>37</td>\n",
       "      <td>258</td>\n",
       "      <td>017 - Plaza Almagro</td>\n",
       "    </tr>\n",
       "    <tr>\n",
       "      <th>117</th>\n",
       "      <td>146</td>\n",
       "      <td>255</td>\n",
       "      <td>121 - YATAY</td>\n",
       "    </tr>\n",
       "  </tbody>\n",
       "</table>\n",
       "</div>"
      ],
      "text/plain": [
       "     station_id  degree                 station_name\n",
       "29           30     269               014 - Pacifico\n",
       "27           28     267      054 - Acuña de Figueroa\n",
       "86           99     265                136 - Acevedo\n",
       "0             0     263           005 - Plaza Italia\n",
       "80           93     262              161 - Humahuaca\n",
       "9             9     262      029 - Parque Centenario\n",
       "315         443     260                142 - ARMENIA\n",
       "161         212     259  255 - BARRANCAS DE BELGRANO\n",
       "35           37     258          017 - Plaza Almagro\n",
       "117         146     255                  121 - YATAY"
      ]
     },
     "execution_count": 93,
     "metadata": {},
     "output_type": "execute_result"
    }
   ],
   "source": [
    "df_station_degree = pd.DataFrame([(u, G2023.degree(u)) for u in G2023.iterNodes()], columns=['station_id', 'degree'])\n",
    "df_station_degree = pd.merge(df_station_degree, df_bike_station, on=['station_id'], how='inner').sort_values('degree', ascending=False)\n",
    "df_station_degree.head(10)"
   ]
  },
  {
   "cell_type": "code",
   "execution_count": 25,
   "metadata": {},
   "outputs": [],
   "source": [
    "df_station_degree = pd.merge(df_station_degree, df_bike_station_geo, on=['station_id'], how='inner')\n"
   ]
  },
  {
   "cell_type": "markdown",
   "metadata": {},
   "source": [
    "Lets see on the map the station degree of each bike station in 2023"
   ]
  },
  {
   "cell_type": "code",
   "execution_count": 27,
   "metadata": {},
   "outputs": [
    {
     "name": "stdout",
     "output_type": "stream",
     "text": [
      "User Guide: https://docs.kepler.gl/docs/keplergl-jupyter\n"
     ]
    },
    {
     "data": {
      "application/vnd.jupyter.widget-view+json": {
       "model_id": "4bd7dec9dc6d4fa09aefbf38500aa87b",
       "version_major": 2,
       "version_minor": 0
      },
      "text/plain": [
       "KeplerGl(config={'version': 'v1', 'config': {'visState': {'filters': [], 'layers': [{'id': 'wbmbn57', 'type': …"
      ]
     },
     "metadata": {},
     "output_type": "display_data"
    }
   ],
   "source": [
    "with open( \"config/station_degree_confmap.json\") as f:\n",
    "    config_map = json.load(f)\n",
    "    \n",
    "map_bike_trips = KeplerGl(height=600,  data={\"Station Degree\": df_station_degree}, config=config_map)\n",
    "map_bike_trips"
   ]
  },
  {
   "cell_type": "markdown",
   "metadata": {},
   "source": [
    "The fact that stations like `014 - Pacifico`,  `054 - Acuña de Figueroa`, `136 - Acevedo` and `005 - Plaza Italia` are at the top of this list suggesting that a large number of citizens from different districts make regular trips to and from this station. This could potentially mean that these stations are either next to a large transportation hub or an important point of interest. Quick google search reveals that they are located across the street from a large educational institution and hospitals points. This explains both the regularity of the trips and the inflow of people from different suburban areas.\n"
   ]
  },
  {
   "cell_type": "markdown",
   "metadata": {},
   "source": [
    "\n",
    "Now, lets calculate the degree In and Out of the stations, that will allow us to know which stations might require more replenishments or docks to support their supply and demand. By computing the degree of each vertex based on their incoming and outgoing edges, we are able to determine their ratio."
   ]
  },
  {
   "cell_type": "markdown",
   "metadata": {},
   "source": [
    "## Degree In: incoming/outgoing\n",
    "A high in-out degree means that there are a lot more bikes parking here than going out, indicating a high supply of bikes. In other words, there may be a lack of docks.\n",
    "\n",
    "\n",
    "\n",
    "High in-out ratios occur in three bike station (`161 - Humahuaca`, `029 - Parque Centenario` and `014 - Pacifico`), \n",
    "\n",
    "\n",
    "Pacifico : near Palermo railway and subway station. One of the hotspot of Buenos aires city.\n",
    "Parque Centenario: close to Centenario Park and Angel Gallardo Subway station that is a halfway spot to this subway.\n",
    "\n",
    "Humahuaca: near Medrano subway station and Corrientes Av. (where there are many shops and Cinemas)\n",
    "\n",
    "From this simple analysis, it seems to be good for business in considerin the placement of more docks near these stations so that other users would not face the issue of not having enough docks to return the bikes.\n",
    "\n",
    "\n",
    "Note: green path means incoming, whereas red means outgoing."
   ]
  },
  {
   "cell_type": "code",
   "execution_count": 145,
   "metadata": {},
   "outputs": [],
   "source": [
    "df_bike_trip_agg = df_bike_trip[df_bike_trip['year']==2023].groupby(['departure_station_id', 'return_station_id'])\\\n",
    "                                .agg({'departure_long':'min', 'departure_lat':'min', 'return_station_long':'min', 'return_station_lat':'min', 'rout_id': 'count'})\\\n",
    "                                .reset_index()\n",
    "\n",
    "df_bike_trip_agg = df_bike_trip_agg.dropna()\n",
    "\n",
    "df_bike_trip_agg = df_bike_trip_agg[df_bike_trip_agg['departure_station_id']!=df_bike_trip_agg['return_station_id'] ]"
   ]
  },
  {
   "cell_type": "code",
   "execution_count": 175,
   "metadata": {},
   "outputs": [
    {
     "data": {
      "text/html": [
       "<div>\n",
       "<style scoped>\n",
       "    .dataframe tbody tr th:only-of-type {\n",
       "        vertical-align: middle;\n",
       "    }\n",
       "\n",
       "    .dataframe tbody tr th {\n",
       "        vertical-align: top;\n",
       "    }\n",
       "\n",
       "    .dataframe thead th {\n",
       "        text-align: right;\n",
       "    }\n",
       "</style>\n",
       "<table border=\"1\" class=\"dataframe\">\n",
       "  <thead>\n",
       "    <tr style=\"text-align: right;\">\n",
       "      <th></th>\n",
       "      <th>station_id</th>\n",
       "      <th>degree_in</th>\n",
       "      <th>station_name</th>\n",
       "    </tr>\n",
       "  </thead>\n",
       "  <tbody>\n",
       "    <tr>\n",
       "      <th>80</th>\n",
       "      <td>93</td>\n",
       "      <td>256</td>\n",
       "      <td>161 - Humahuaca</td>\n",
       "    </tr>\n",
       "    <tr>\n",
       "      <th>9</th>\n",
       "      <td>9</td>\n",
       "      <td>256</td>\n",
       "      <td>029 - Parque Centenario</td>\n",
       "    </tr>\n",
       "    <tr>\n",
       "      <th>29</th>\n",
       "      <td>30</td>\n",
       "      <td>253</td>\n",
       "      <td>014 - Pacifico</td>\n",
       "    </tr>\n",
       "    <tr>\n",
       "      <th>242</th>\n",
       "      <td>341</td>\n",
       "      <td>252</td>\n",
       "      <td>187 - Jose Maria Moreno</td>\n",
       "    </tr>\n",
       "    <tr>\n",
       "      <th>27</th>\n",
       "      <td>28</td>\n",
       "      <td>251</td>\n",
       "      <td>054 - Acuña de Figueroa</td>\n",
       "    </tr>\n",
       "    <tr>\n",
       "      <th>86</th>\n",
       "      <td>99</td>\n",
       "      <td>250</td>\n",
       "      <td>136 - Acevedo</td>\n",
       "    </tr>\n",
       "    <tr>\n",
       "      <th>161</th>\n",
       "      <td>212</td>\n",
       "      <td>250</td>\n",
       "      <td>255 - BARRANCAS DE BELGRANO</td>\n",
       "    </tr>\n",
       "    <tr>\n",
       "      <th>117</th>\n",
       "      <td>146</td>\n",
       "      <td>249</td>\n",
       "      <td>121 - YATAY</td>\n",
       "    </tr>\n",
       "    <tr>\n",
       "      <th>315</th>\n",
       "      <td>443</td>\n",
       "      <td>249</td>\n",
       "      <td>142 - ARMENIA</td>\n",
       "    </tr>\n",
       "    <tr>\n",
       "      <th>124</th>\n",
       "      <td>160</td>\n",
       "      <td>246</td>\n",
       "      <td>074 - INSTITUTO LELOIR</td>\n",
       "    </tr>\n",
       "  </tbody>\n",
       "</table>\n",
       "</div>"
      ],
      "text/plain": [
       "     station_id  degree_in                 station_name\n",
       "80           93        256              161 - Humahuaca\n",
       "9             9        256      029 - Parque Centenario\n",
       "29           30        253               014 - Pacifico\n",
       "242         341        252      187 - Jose Maria Moreno\n",
       "27           28        251      054 - Acuña de Figueroa\n",
       "86           99        250                136 - Acevedo\n",
       "161         212        250  255 - BARRANCAS DE BELGRANO\n",
       "117         146        249                  121 - YATAY\n",
       "315         443        249                142 - ARMENIA\n",
       "124         160        246       074 - INSTITUTO LELOIR"
      ]
     },
     "execution_count": 175,
     "metadata": {},
     "output_type": "execute_result"
    }
   ],
   "source": [
    "df_station_degree_in = pd.DataFrame([(u, G2023.degreeIn(u)) for u in G2023.iterNodes()], columns=['station_id', 'degree_in'])\n",
    "df_station_degree_in = pd.merge(df_station_degree_in, df_bike_station, on=['station_id'], how='inner').sort_values('degree_in', ascending=False)\n",
    "df_station_degree_in.head(10)"
   ]
  },
  {
   "cell_type": "code",
   "execution_count": 176,
   "metadata": {},
   "outputs": [
    {
     "name": "stdout",
     "output_type": "stream",
     "text": [
      "User Guide: https://docs.kepler.gl/docs/keplergl-jupyter\n"
     ]
    },
    {
     "data": {
      "application/vnd.jupyter.widget-view+json": {
       "model_id": "df7aa824db4d40d5aa04cd77e71bc1c0",
       "version_major": 2,
       "version_minor": 0
      },
      "text/plain": [
       "KeplerGl(config={'version': 'v1', 'config': {'visState': {'filters': [], 'layers': [{'id': 'jtlqnai', 'type': …"
      ]
     },
     "metadata": {},
     "output_type": "display_data"
    }
   ],
   "source": [
    "df_station_degree_in = pd.merge(df_station_degree_in, df_bike_station_geo, on=['station_id'], how='inner')\n",
    "df_station_degree_in = pd.merge(df_bike_trip_agg, df_station_degree_in.iloc[:20,:] , left_on='return_station_id' , right_on='station_id', how='inner')\n",
    "\n",
    "with open( \"config/station_degree_in_confmap.json\") as f:\n",
    "    config_map = json.load(f)\n",
    "    \n",
    "map_bike_trips = KeplerGl(height=600,  data={\"Station Degree\": df_station_degree_in}, config=config_map)\n",
    "map_bike_trips"
   ]
  },
  {
   "cell_type": "markdown",
   "metadata": {},
   "source": [
    "\n",
    "## 4.2. Degree Out: outgoing/incoming\n",
    "A high out-in value means that there are a lot more bikes leaving here which could result in a shortage, indicating high demand for bikes. In other words, there may be a lack of bikes.\n",
    "\n",
    "The highest out-in ratio belongs to `014 - Pacifico` that is on Santa Fe Av., close to Palermo rail and subway station. As we have seen before, this station is also the thirth with highest Degree In ratio, this means that maybe, there is a balance between outgoing and incoming bikes.\n",
    "\n",
    "\n",
    "005 - Plaza Italia is one of the most outgoing bike station and it because is close to many important spot like Italia subway station, Italian Park and La Rural. This is a station to be wary of as there could be a shortage of bikes. \n",
    "It interesting to note that these station are mostly run off of bicycles and most of the time it is hard to get one. So it needs a biger supply of bikes to these stations.\n",
    "\n"
   ]
  },
  {
   "cell_type": "code",
   "execution_count": 177,
   "metadata": {},
   "outputs": [
    {
     "data": {
      "text/html": [
       "<div>\n",
       "<style scoped>\n",
       "    .dataframe tbody tr th:only-of-type {\n",
       "        vertical-align: middle;\n",
       "    }\n",
       "\n",
       "    .dataframe tbody tr th {\n",
       "        vertical-align: top;\n",
       "    }\n",
       "\n",
       "    .dataframe thead th {\n",
       "        text-align: right;\n",
       "    }\n",
       "</style>\n",
       "<table border=\"1\" class=\"dataframe\">\n",
       "  <thead>\n",
       "    <tr style=\"text-align: right;\">\n",
       "      <th></th>\n",
       "      <th>station_id</th>\n",
       "      <th>degree_out</th>\n",
       "      <th>station_name</th>\n",
       "    </tr>\n",
       "  </thead>\n",
       "  <tbody>\n",
       "    <tr>\n",
       "      <th>29</th>\n",
       "      <td>30</td>\n",
       "      <td>269</td>\n",
       "      <td>014 - Pacifico</td>\n",
       "    </tr>\n",
       "    <tr>\n",
       "      <th>27</th>\n",
       "      <td>28</td>\n",
       "      <td>267</td>\n",
       "      <td>054 - Acuña de Figueroa</td>\n",
       "    </tr>\n",
       "    <tr>\n",
       "      <th>86</th>\n",
       "      <td>99</td>\n",
       "      <td>265</td>\n",
       "      <td>136 - Acevedo</td>\n",
       "    </tr>\n",
       "    <tr>\n",
       "      <th>0</th>\n",
       "      <td>0</td>\n",
       "      <td>263</td>\n",
       "      <td>005 - Plaza Italia</td>\n",
       "    </tr>\n",
       "    <tr>\n",
       "      <th>80</th>\n",
       "      <td>93</td>\n",
       "      <td>262</td>\n",
       "      <td>161 - Humahuaca</td>\n",
       "    </tr>\n",
       "    <tr>\n",
       "      <th>9</th>\n",
       "      <td>9</td>\n",
       "      <td>262</td>\n",
       "      <td>029 - Parque Centenario</td>\n",
       "    </tr>\n",
       "    <tr>\n",
       "      <th>315</th>\n",
       "      <td>443</td>\n",
       "      <td>260</td>\n",
       "      <td>142 - ARMENIA</td>\n",
       "    </tr>\n",
       "    <tr>\n",
       "      <th>161</th>\n",
       "      <td>212</td>\n",
       "      <td>259</td>\n",
       "      <td>255 - BARRANCAS DE BELGRANO</td>\n",
       "    </tr>\n",
       "    <tr>\n",
       "      <th>35</th>\n",
       "      <td>37</td>\n",
       "      <td>258</td>\n",
       "      <td>017 - Plaza Almagro</td>\n",
       "    </tr>\n",
       "    <tr>\n",
       "      <th>117</th>\n",
       "      <td>146</td>\n",
       "      <td>255</td>\n",
       "      <td>121 - YATAY</td>\n",
       "    </tr>\n",
       "  </tbody>\n",
       "</table>\n",
       "</div>"
      ],
      "text/plain": [
       "     station_id  degree_out                 station_name\n",
       "29           30         269               014 - Pacifico\n",
       "27           28         267      054 - Acuña de Figueroa\n",
       "86           99         265                136 - Acevedo\n",
       "0             0         263           005 - Plaza Italia\n",
       "80           93         262              161 - Humahuaca\n",
       "9             9         262      029 - Parque Centenario\n",
       "315         443         260                142 - ARMENIA\n",
       "161         212         259  255 - BARRANCAS DE BELGRANO\n",
       "35           37         258          017 - Plaza Almagro\n",
       "117         146         255                  121 - YATAY"
      ]
     },
     "execution_count": 177,
     "metadata": {},
     "output_type": "execute_result"
    }
   ],
   "source": [
    "df_station_degree_out = pd.DataFrame([(u, G2023.degreeOut(u)) for u in G2023.iterNodes()], columns=['station_id', 'degree_out'])\n",
    "df_station_degree_out = pd.merge(df_station_degree_out, df_bike_station, on=['station_id'], how='inner').sort_values('degree_out', ascending=False)\n",
    "df_station_degree_out.head(10)"
   ]
  },
  {
   "cell_type": "code",
   "execution_count": 178,
   "metadata": {},
   "outputs": [
    {
     "name": "stdout",
     "output_type": "stream",
     "text": [
      "User Guide: https://docs.kepler.gl/docs/keplergl-jupyter\n"
     ]
    },
    {
     "data": {
      "application/vnd.jupyter.widget-view+json": {
       "model_id": "244d493e1bf348528d020540039966f4",
       "version_major": 2,
       "version_minor": 0
      },
      "text/plain": [
       "KeplerGl(config={'version': 'v1', 'config': {'visState': {'filters': [], 'layers': [{'id': 'jtlqnai', 'type': …"
      ]
     },
     "metadata": {},
     "output_type": "display_data"
    }
   ],
   "source": [
    "\n",
    "df_station_degree_out = pd.merge(df_station_degree_out, df_bike_station_geo, on=['station_id'], how='inner')\n",
    "df_station_degree_out = pd.merge(df_bike_trip_agg, df_station_degree_out.iloc[:20,:] , left_on='departure_station_id' , right_on='station_id', how='inner')\n",
    "\n",
    "\n",
    "with open( \"config/station_degree_out_confmap.json\") as f:\n",
    "    config_map = json.load(f)\n",
    "    \n",
    "map_bike_trips = KeplerGl(height=600,  data={\"Station Degree\": df_station_degree_out}, config=config_map)\n",
    "map_bike_trips"
   ]
  },
  {
   "cell_type": "markdown",
   "metadata": {},
   "source": [
    "# 5. Centrality \n",
    "## 5.1. Betweenness Centrality\n",
    "\n",
    "The betweenness centrality is a measure of centrality in a graph based on shortest paths. For every pair of vertices in a connected graph, there exists at least one shortest path between the vertices such that either the number of edges that the path passes through (for unweighted graphs) or the sum of the weights of the edges (for weighted graphs) is minimized. The betweenness centrality for each vertex is the number of these shortest paths that pass through the vertex.\n",
    "\n",
    "In a weighted network the links connecting the nodes are no longer treated as binary interactions, but are weighted in proportion to their capacity, influence, frequency, etc., which adds another dimension of heterogeneity within the network beyond the topological effects. A node’s strength in a weighted network is given by the sum of the weights of its adjacent edges.\n",
    "\n",
    "\n",
    "The graph below illustrates the city bike stations by betweenness centrality."
   ]
  },
  {
   "cell_type": "code",
   "execution_count": null,
   "metadata": {},
   "outputs": [],
   "source": [
    "G2019.removeSelfLoops()\n",
    "G2020.removeSelfLoops()\n",
    "G2021.removeSelfLoops()\n",
    "G2022.removeSelfLoops()\n",
    "G2023.removeSelfLoops()"
   ]
  },
  {
   "cell_type": "code",
   "execution_count": 139,
   "metadata": {},
   "outputs": [],
   "source": [
    "G2023.removeSelfLoops()"
   ]
  },
  {
   "cell_type": "code",
   "execution_count": 146,
   "metadata": {},
   "outputs": [
    {
     "data": {
      "text/html": [
       "<div>\n",
       "<style scoped>\n",
       "    .dataframe tbody tr th:only-of-type {\n",
       "        vertical-align: middle;\n",
       "    }\n",
       "\n",
       "    .dataframe tbody tr th {\n",
       "        vertical-align: top;\n",
       "    }\n",
       "\n",
       "    .dataframe thead th {\n",
       "        text-align: right;\n",
       "    }\n",
       "</style>\n",
       "<table border=\"1\" class=\"dataframe\">\n",
       "  <thead>\n",
       "    <tr style=\"text-align: right;\">\n",
       "      <th></th>\n",
       "      <th>station_id</th>\n",
       "      <th>betweeness_centrality</th>\n",
       "      <th>station_name</th>\n",
       "      <th>lat</th>\n",
       "      <th>long</th>\n",
       "    </tr>\n",
       "  </thead>\n",
       "  <tbody>\n",
       "    <tr>\n",
       "      <th>0</th>\n",
       "      <td>389</td>\n",
       "      <td>756.420966</td>\n",
       "      <td>269 - Plaza De La Misericordia</td>\n",
       "      <td>-34.631700</td>\n",
       "      <td>-58.455340</td>\n",
       "    </tr>\n",
       "    <tr>\n",
       "      <th>1</th>\n",
       "      <td>202</td>\n",
       "      <td>746.733344</td>\n",
       "      <td>275 - PLAZA 24 DE SEPTIEMBRE</td>\n",
       "      <td>-34.606984</td>\n",
       "      <td>-58.448540</td>\n",
       "    </tr>\n",
       "    <tr>\n",
       "      <th>2</th>\n",
       "      <td>434</td>\n",
       "      <td>701.945107</td>\n",
       "      <td>347 - CARABOBO</td>\n",
       "      <td>-34.626288</td>\n",
       "      <td>-58.455300</td>\n",
       "    </tr>\n",
       "    <tr>\n",
       "      <th>3</th>\n",
       "      <td>257</td>\n",
       "      <td>654.811370</td>\n",
       "      <td>229 - RIGLOS</td>\n",
       "      <td>-34.631018</td>\n",
       "      <td>-58.435056</td>\n",
       "    </tr>\n",
       "    <tr>\n",
       "      <th>4</th>\n",
       "      <td>70</td>\n",
       "      <td>638.957380</td>\n",
       "      <td>094 - GÚZMAN</td>\n",
       "      <td>-34.591511</td>\n",
       "      <td>-58.449652</td>\n",
       "    </tr>\n",
       "    <tr>\n",
       "      <th>5</th>\n",
       "      <td>446</td>\n",
       "      <td>621.429566</td>\n",
       "      <td>266 - PLAZA SABATTINI</td>\n",
       "      <td>-34.612296</td>\n",
       "      <td>-58.443295</td>\n",
       "    </tr>\n",
       "    <tr>\n",
       "      <th>6</th>\n",
       "      <td>228</td>\n",
       "      <td>615.527316</td>\n",
       "      <td>374 - Puan</td>\n",
       "      <td>-34.622092</td>\n",
       "      <td>-58.448547</td>\n",
       "    </tr>\n",
       "    <tr>\n",
       "      <th>7</th>\n",
       "      <td>225</td>\n",
       "      <td>572.436711</td>\n",
       "      <td>243 - PLAZOLETA CELEDONIO FLORES</td>\n",
       "      <td>-34.581576</td>\n",
       "      <td>-58.451530</td>\n",
       "    </tr>\n",
       "    <tr>\n",
       "      <th>8</th>\n",
       "      <td>407</td>\n",
       "      <td>570.478978</td>\n",
       "      <td>219 - Parque Chacabuco II</td>\n",
       "      <td>-34.636275</td>\n",
       "      <td>-58.444041</td>\n",
       "    </tr>\n",
       "    <tr>\n",
       "      <th>9</th>\n",
       "      <td>381</td>\n",
       "      <td>554.084573</td>\n",
       "      <td>231 - Margariños Cervantes</td>\n",
       "      <td>-34.610482</td>\n",
       "      <td>-58.474369</td>\n",
       "    </tr>\n",
       "  </tbody>\n",
       "</table>\n",
       "</div>"
      ],
      "text/plain": [
       "   station_id  betweeness_centrality                      station_name  \\\n",
       "0         389             756.420966    269 - Plaza De La Misericordia   \n",
       "1         202             746.733344      275 - PLAZA 24 DE SEPTIEMBRE   \n",
       "2         434             701.945107                    347 - CARABOBO   \n",
       "3         257             654.811370                      229 - RIGLOS   \n",
       "4          70             638.957380                      094 - GÚZMAN   \n",
       "5         446             621.429566             266 - PLAZA SABATTINI   \n",
       "6         228             615.527316                        374 - Puan   \n",
       "7         225             572.436711  243 - PLAZOLETA CELEDONIO FLORES   \n",
       "8         407             570.478978         219 - Parque Chacabuco II   \n",
       "9         381             554.084573        231 - Margariños Cervantes   \n",
       "\n",
       "         lat       long  \n",
       "0 -34.631700 -58.455340  \n",
       "1 -34.606984 -58.448540  \n",
       "2 -34.626288 -58.455300  \n",
       "3 -34.631018 -58.435056  \n",
       "4 -34.591511 -58.449652  \n",
       "5 -34.612296 -58.443295  \n",
       "6 -34.622092 -58.448547  \n",
       "7 -34.581576 -58.451530  \n",
       "8 -34.636275 -58.444041  \n",
       "9 -34.610482 -58.474369  "
      ]
     },
     "execution_count": 146,
     "metadata": {},
     "output_type": "execute_result"
    }
   ],
   "source": [
    "bc = nk.centrality.Betweenness(G2023)\n",
    "bc.run()\n",
    "df_betweeness_cent = pd.DataFrame(bc.ranking(), columns=['station_id', 'betweeness_centrality'])\n",
    "\n",
    "df_betweeness_cent = pd.merge(df_betweeness_cent, df_bike_station, on=['station_id'], how='inner').sort_values('betweeness_centrality', ascending=False)\n",
    "df_betweeness_cent = pd.merge(df_betweeness_cent, df_bike_station_geo, on=['station_id'], how='inner')\n",
    "\n",
    "df_betweeness_cent.head(10)"
   ]
  },
  {
   "cell_type": "code",
   "execution_count": 147,
   "metadata": {},
   "outputs": [],
   "source": [
    "df_betweeness_cent = df_betweeness_cent.iloc[:20,:]\n",
    "station_ids = df_betweeness_cent.station_id.unique().tolist()"
   ]
  },
  {
   "cell_type": "code",
   "execution_count": 148,
   "metadata": {},
   "outputs": [],
   "source": [
    "df_bike_trip_agg = df_bike_trip_agg[df_bike_trip_agg['departure_station_id'].isin(station_ids) | df_bike_trip_agg['return_station_id'].isin(station_ids)]"
   ]
  },
  {
   "cell_type": "code",
   "execution_count": 149,
   "metadata": {},
   "outputs": [
    {
     "name": "stdout",
     "output_type": "stream",
     "text": [
      "User Guide: https://docs.kepler.gl/docs/keplergl-jupyter\n"
     ]
    },
    {
     "data": {
      "application/vnd.jupyter.widget-view+json": {
       "model_id": "0543282e9f0f47c6817d6e0f4436d609",
       "version_major": 2,
       "version_minor": 0
      },
      "text/plain": [
       "KeplerGl(config={'version': 'v1', 'config': {'visState': {'filters': [], 'layers': [{'id': 'vh6j7v6', 'type': …"
      ]
     },
     "metadata": {},
     "output_type": "display_data"
    }
   ],
   "source": [
    "with open( \"config/station_betweenness_cent_confmap.json\") as f:\n",
    "    config_map = json.load(f)\n",
    "    \n",
    "map_bike_trips = KeplerGl(height=600,  data={\"Betweenness Centrality\": df_betweeness_cent, \"Bike trips\": df_bike_trip_agg}, config=config_map)\n",
    "map_bike_trips"
   ]
  },
  {
   "cell_type": "markdown",
   "metadata": {},
   "source": [
    "The nodes with the highest “betweenness centrality” are `Plaza de la Misericordia`, `Plaza 24 de Septiembre` and `Carabobo` bike station. As we can see from the graph above, most of this nodes are located in the middle of the city where they serve as a halfway between bikes station in the city center and those that are in the west. \n",
    "\n",
    "We might think that due to the demografic distribution of the city, traffic flows from the hotest point to other nodes which are mostly channelled through these station, but in reality, its hardly  happens that riders use these stations as a halfway point. Even Though, it might be a good idea to place more docks in these bike stations.\n",
    "\n"
   ]
  },
  {
   "cell_type": "markdown",
   "metadata": {},
   "source": [
    "## Closeness Centrality\n",
    "\n",
    "Closeness centrality indicates how close a node is to all other nodes in the network. It is calculated as inverse of the average of the shortest path length from the node to every other node in the network.\n",
    "\n"
   ]
  },
  {
   "cell_type": "code",
   "execution_count": 56,
   "metadata": {},
   "outputs": [
    {
     "data": {
      "text/html": [
       "<div>\n",
       "<style scoped>\n",
       "    .dataframe tbody tr th:only-of-type {\n",
       "        vertical-align: middle;\n",
       "    }\n",
       "\n",
       "    .dataframe tbody tr th {\n",
       "        vertical-align: top;\n",
       "    }\n",
       "\n",
       "    .dataframe thead th {\n",
       "        text-align: right;\n",
       "    }\n",
       "</style>\n",
       "<table border=\"1\" class=\"dataframe\">\n",
       "  <thead>\n",
       "    <tr style=\"text-align: right;\">\n",
       "      <th></th>\n",
       "      <th>station_id</th>\n",
       "      <th>closeness_centrality</th>\n",
       "      <th>station_name</th>\n",
       "      <th>lat</th>\n",
       "      <th>long</th>\n",
       "    </tr>\n",
       "  </thead>\n",
       "  <tbody>\n",
       "    <tr>\n",
       "      <th>0</th>\n",
       "      <td>202</td>\n",
       "      <td>0.549828</td>\n",
       "      <td>275 - PLAZA 24 DE SEPTIEMBRE</td>\n",
       "      <td>-34.606984</td>\n",
       "      <td>-58.448540</td>\n",
       "    </tr>\n",
       "    <tr>\n",
       "      <th>1</th>\n",
       "      <td>441</td>\n",
       "      <td>0.545145</td>\n",
       "      <td>208 - NICASIO OROÑO</td>\n",
       "      <td>-34.596744</td>\n",
       "      <td>-58.459403</td>\n",
       "    </tr>\n",
       "    <tr>\n",
       "      <th>2</th>\n",
       "      <td>87</td>\n",
       "      <td>0.544218</td>\n",
       "      <td>089 - Cabello</td>\n",
       "      <td>-34.582547</td>\n",
       "      <td>-58.405667</td>\n",
       "    </tr>\n",
       "    <tr>\n",
       "      <th>3</th>\n",
       "      <td>302</td>\n",
       "      <td>0.544218</td>\n",
       "      <td>383 - BOEDO Y VENEZUELA</td>\n",
       "      <td>-34.616354</td>\n",
       "      <td>-58.417074</td>\n",
       "    </tr>\n",
       "    <tr>\n",
       "      <th>4</th>\n",
       "      <td>446</td>\n",
       "      <td>0.544218</td>\n",
       "      <td>266 - PLAZA SABATTINI</td>\n",
       "      <td>-34.612296</td>\n",
       "      <td>-58.443295</td>\n",
       "    </tr>\n",
       "    <tr>\n",
       "      <th>5</th>\n",
       "      <td>421</td>\n",
       "      <td>0.543294</td>\n",
       "      <td>310 - FREIRE II</td>\n",
       "      <td>-34.575129</td>\n",
       "      <td>-58.452756</td>\n",
       "    </tr>\n",
       "    <tr>\n",
       "      <th>6</th>\n",
       "      <td>24</td>\n",
       "      <td>0.542373</td>\n",
       "      <td>031 - Padilla</td>\n",
       "      <td>-34.603343</td>\n",
       "      <td>-58.439521</td>\n",
       "    </tr>\n",
       "    <tr>\n",
       "      <th>7</th>\n",
       "      <td>256</td>\n",
       "      <td>0.542373</td>\n",
       "      <td>222 - SIMON BOLIVAR</td>\n",
       "      <td>-34.633528</td>\n",
       "      <td>-58.449379</td>\n",
       "    </tr>\n",
       "    <tr>\n",
       "      <th>8</th>\n",
       "      <td>381</td>\n",
       "      <td>0.542373</td>\n",
       "      <td>231 - Margariños Cervantes</td>\n",
       "      <td>-34.610482</td>\n",
       "      <td>-58.474369</td>\n",
       "    </tr>\n",
       "    <tr>\n",
       "      <th>9</th>\n",
       "      <td>275</td>\n",
       "      <td>0.541455</td>\n",
       "      <td>148 -La Paternal</td>\n",
       "      <td>-34.600831</td>\n",
       "      <td>-58.472127</td>\n",
       "    </tr>\n",
       "  </tbody>\n",
       "</table>\n",
       "</div>"
      ],
      "text/plain": [
       "   station_id  closeness_centrality                  station_name        lat  \\\n",
       "0         202              0.549828  275 - PLAZA 24 DE SEPTIEMBRE -34.606984   \n",
       "1         441              0.545145           208 - NICASIO OROÑO -34.596744   \n",
       "2          87              0.544218                 089 - Cabello -34.582547   \n",
       "3         302              0.544218       383 - BOEDO Y VENEZUELA -34.616354   \n",
       "4         446              0.544218         266 - PLAZA SABATTINI -34.612296   \n",
       "5         421              0.543294               310 - FREIRE II -34.575129   \n",
       "6          24              0.542373                 031 - Padilla -34.603343   \n",
       "7         256              0.542373           222 - SIMON BOLIVAR -34.633528   \n",
       "8         381              0.542373    231 - Margariños Cervantes -34.610482   \n",
       "9         275              0.541455              148 -La Paternal -34.600831   \n",
       "\n",
       "        long  \n",
       "0 -58.448540  \n",
       "1 -58.459403  \n",
       "2 -58.405667  \n",
       "3 -58.417074  \n",
       "4 -58.443295  \n",
       "5 -58.452756  \n",
       "6 -58.439521  \n",
       "7 -58.449379  \n",
       "8 -58.474369  \n",
       "9 -58.472127  "
      ]
     },
     "execution_count": 56,
     "metadata": {},
     "output_type": "execute_result"
    }
   ],
   "source": [
    "df_bike_trip_agg = df_bike_trip[df_bike_trip['year']==2023].groupby(['departure_station_id', 'return_station_id'])\\\n",
    "                                .agg({'departure_long':'min', 'departure_lat':'min', 'return_station_long':'min', 'return_station_lat':'min', 'rout_id': 'count'})\\\n",
    "                                .reset_index()\n",
    "\n",
    "df_bike_trip_agg = df_bike_trip_agg.dropna()\n",
    "\n",
    "df_bike_trip_agg = df_bike_trip_agg[df_bike_trip_agg['departure_station_id']!=df_bike_trip_agg['return_station_id'] ]\n",
    "\n",
    "\n",
    "# Initialize algorithm\n",
    "close = nk.centrality.Closeness(G2023, False, nk.centrality.ClosenessVariant.Generalized)\n",
    "close.run()\n",
    "\n",
    "#The most central nodes according to betweenness are then \n",
    "df_closeness_cent = pd.DataFrame(close.ranking(), columns=['station_id', 'closeness_centrality'])\n",
    "\n",
    "df_closeness_cent = pd.merge(df_closeness_cent, df_bike_station, on=['station_id'], how='inner').sort_values('closeness_centrality', ascending=False)\n",
    "df_closeness_cent = pd.merge(df_closeness_cent, df_bike_station_geo, on=['station_id'], how='inner')\n",
    "\n",
    "df_closeness_cent.head(10)"
   ]
  },
  {
   "cell_type": "code",
   "execution_count": 62,
   "metadata": {},
   "outputs": [
    {
     "name": "stdout",
     "output_type": "stream",
     "text": [
      "User Guide: https://docs.kepler.gl/docs/keplergl-jupyter\n"
     ]
    },
    {
     "data": {
      "application/vnd.jupyter.widget-view+json": {
       "model_id": "ab05da982ce640edb8527dab248618f8",
       "version_major": 2,
       "version_minor": 0
      },
      "text/plain": [
       "KeplerGl(config={'version': 'v1', 'config': {'visState': {'filters': [], 'layers': [{'id': '493mhh8', 'type': …"
      ]
     },
     "metadata": {},
     "output_type": "display_data"
    }
   ],
   "source": [
    "df_closeness_cent = df_closeness_cent.iloc[:20,:]\n",
    "station_ids = df_closeness_cent.station_id.unique().tolist()\n",
    "\n",
    "df_bike_trip_agg = df_bike_trip_agg[df_bike_trip_agg['departure_station_id'].isin(station_ids) | df_bike_trip_agg['return_station_id'].isin(station_ids)]\n",
    "\n",
    "with open( \"config/station_closeness_cent_confmap.json\") as f:\n",
    "    config_map = json.load(f)\n",
    "    \n",
    "map_bike_trips = KeplerGl(height=600,  data={\"Closeness Centrality\": df_closeness_cent, \"Bike trips\": df_bike_trip_agg}, config=config_map)\n",
    "map_bike_trips"
   ]
  },
  {
   "cell_type": "markdown",
   "metadata": {},
   "source": [
    "Eigenvector Centrality and PageRank\n",
    "\n",
    "Eigenvector centrality and its variant PageRank assign relative importance to nodes according to their connections, incorporating the idea that edges to high-scoring nodes contribute more. PageRank is a version of eigenvector centrality which introduces a damping factor, modeling a random web surfer which at some point stops following links and jumps to a random page. In PageRank theory, centrality is understood as the probability of such a web surfer to arrive on a certain page. Our implementation of both measures is based on parallel power iteration, a relatively simple eigensolver."
   ]
  },
  {
   "cell_type": "code",
   "execution_count": 63,
   "metadata": {},
   "outputs": [
    {
     "data": {
      "text/html": [
       "<div>\n",
       "<style scoped>\n",
       "    .dataframe tbody tr th:only-of-type {\n",
       "        vertical-align: middle;\n",
       "    }\n",
       "\n",
       "    .dataframe tbody tr th {\n",
       "        vertical-align: top;\n",
       "    }\n",
       "\n",
       "    .dataframe thead th {\n",
       "        text-align: right;\n",
       "    }\n",
       "</style>\n",
       "<table border=\"1\" class=\"dataframe\">\n",
       "  <thead>\n",
       "    <tr style=\"text-align: right;\">\n",
       "      <th></th>\n",
       "      <th>station_id</th>\n",
       "      <th>eigenvector_centrality</th>\n",
       "      <th>station_name</th>\n",
       "      <th>lat</th>\n",
       "      <th>long</th>\n",
       "    </tr>\n",
       "  </thead>\n",
       "  <tbody>\n",
       "    <tr>\n",
       "      <th>0</th>\n",
       "      <td>100</td>\n",
       "      <td>0.192717</td>\n",
       "      <td>128 - PARQUE DEL BAJO</td>\n",
       "      <td>-34.605152</td>\n",
       "      <td>-58.368821</td>\n",
       "    </tr>\n",
       "    <tr>\n",
       "      <th>1</th>\n",
       "      <td>30</td>\n",
       "      <td>0.182790</td>\n",
       "      <td>014 - Pacifico</td>\n",
       "      <td>-34.577424</td>\n",
       "      <td>-58.426387</td>\n",
       "    </tr>\n",
       "    <tr>\n",
       "      <th>2</th>\n",
       "      <td>12</td>\n",
       "      <td>0.176517</td>\n",
       "      <td>147 - Constitución</td>\n",
       "      <td>-34.626851</td>\n",
       "      <td>-58.380707</td>\n",
       "    </tr>\n",
       "    <tr>\n",
       "      <th>3</th>\n",
       "      <td>167</td>\n",
       "      <td>0.159104</td>\n",
       "      <td>160 - Godoy Cruz y Libertador</td>\n",
       "      <td>-34.572583</td>\n",
       "      <td>-58.420628</td>\n",
       "    </tr>\n",
       "    <tr>\n",
       "      <th>4</th>\n",
       "      <td>196</td>\n",
       "      <td>0.152327</td>\n",
       "      <td>152 - JULIETA LANTERI</td>\n",
       "      <td>-34.618164</td>\n",
       "      <td>-58.359631</td>\n",
       "    </tr>\n",
       "    <tr>\n",
       "      <th>5</th>\n",
       "      <td>17</td>\n",
       "      <td>0.150709</td>\n",
       "      <td>008 - Congreso</td>\n",
       "      <td>-34.609422</td>\n",
       "      <td>-58.389336</td>\n",
       "    </tr>\n",
       "    <tr>\n",
       "      <th>6</th>\n",
       "      <td>76</td>\n",
       "      <td>0.150667</td>\n",
       "      <td>150 - RODRIGO BUENO</td>\n",
       "      <td>-34.618755</td>\n",
       "      <td>-58.355465</td>\n",
       "    </tr>\n",
       "    <tr>\n",
       "      <th>7</th>\n",
       "      <td>92</td>\n",
       "      <td>0.147534</td>\n",
       "      <td>130 - RETIRO II</td>\n",
       "      <td>-34.591738</td>\n",
       "      <td>-58.374364</td>\n",
       "    </tr>\n",
       "    <tr>\n",
       "      <th>8</th>\n",
       "      <td>51</td>\n",
       "      <td>0.146660</td>\n",
       "      <td>001 - FACULTAD DE DERECHO</td>\n",
       "      <td>-34.583749</td>\n",
       "      <td>-58.390602</td>\n",
       "    </tr>\n",
       "    <tr>\n",
       "      <th>9</th>\n",
       "      <td>0</td>\n",
       "      <td>0.144923</td>\n",
       "      <td>005 - Plaza Italia</td>\n",
       "      <td>-34.580550</td>\n",
       "      <td>-58.420954</td>\n",
       "    </tr>\n",
       "  </tbody>\n",
       "</table>\n",
       "</div>"
      ],
      "text/plain": [
       "   station_id  eigenvector_centrality                   station_name  \\\n",
       "0         100                0.192717          128 - PARQUE DEL BAJO   \n",
       "1          30                0.182790                 014 - Pacifico   \n",
       "2          12                0.176517             147 - Constitución   \n",
       "3         167                0.159104  160 - Godoy Cruz y Libertador   \n",
       "4         196                0.152327          152 - JULIETA LANTERI   \n",
       "5          17                0.150709                 008 - Congreso   \n",
       "6          76                0.150667            150 - RODRIGO BUENO   \n",
       "7          92                0.147534                130 - RETIRO II   \n",
       "8          51                0.146660      001 - FACULTAD DE DERECHO   \n",
       "9           0                0.144923             005 - Plaza Italia   \n",
       "\n",
       "         lat       long  \n",
       "0 -34.605152 -58.368821  \n",
       "1 -34.577424 -58.426387  \n",
       "2 -34.626851 -58.380707  \n",
       "3 -34.572583 -58.420628  \n",
       "4 -34.618164 -58.359631  \n",
       "5 -34.609422 -58.389336  \n",
       "6 -34.618755 -58.355465  \n",
       "7 -34.591738 -58.374364  \n",
       "8 -34.583749 -58.390602  \n",
       "9 -34.580550 -58.420954  "
      ]
     },
     "execution_count": 63,
     "metadata": {},
     "output_type": "execute_result"
    }
   ],
   "source": [
    "df_bike_trip_agg = df_bike_trip[df_bike_trip['year']==2023].groupby(['departure_station_id', 'return_station_id'])\\\n",
    "                                .agg({'departure_long':'min', 'departure_lat':'min', 'return_station_long':'min', 'return_station_lat':'min', 'rout_id': 'count'})\\\n",
    "                                .reset_index()\n",
    "\n",
    "df_bike_trip_agg = df_bike_trip_agg.dropna()\n",
    "\n",
    "df_bike_trip_agg = df_bike_trip_agg[df_bike_trip_agg['departure_station_id']!=df_bike_trip_agg['return_station_id'] ]\n",
    "\n",
    "\n",
    "# Eigenvector centrality\n",
    "ec = nk.centrality.EigenvectorCentrality(G2023)\n",
    "ec.run()\n",
    "\n",
    "df_eigenvector_cent = pd.DataFrame(ec.ranking(), columns=['station_id', 'eigenvector_centrality'])\n",
    "\n",
    "df_eigenvector_cent = pd.merge(df_eigenvector_cent, df_bike_station, on=['station_id'], how='inner').sort_values('eigenvector_centrality', ascending=False)\n",
    "df_eigenvector_cent = pd.merge(df_eigenvector_cent, df_bike_station_geo, on=['station_id'], how='inner')\n",
    "\n",
    "df_eigenvector_cent.head(10)"
   ]
  },
  {
   "cell_type": "code",
   "execution_count": 67,
   "metadata": {},
   "outputs": [
    {
     "name": "stdout",
     "output_type": "stream",
     "text": [
      "User Guide: https://docs.kepler.gl/docs/keplergl-jupyter\n"
     ]
    },
    {
     "data": {
      "application/vnd.jupyter.widget-view+json": {
       "model_id": "7a44c1c8d00b48d08e3c9a9e20d9fe05",
       "version_major": 2,
       "version_minor": 0
      },
      "text/plain": [
       "KeplerGl(config={'version': 'v1', 'config': {'visState': {'filters': [], 'layers': [{'id': 'dh9bh5', 'type': '…"
      ]
     },
     "metadata": {},
     "output_type": "display_data"
    }
   ],
   "source": [
    "df_eigenvector_cent = df_eigenvector_cent.iloc[:20,:]\n",
    "station_ids = df_eigenvector_cent.station_id.unique().tolist()\n",
    "\n",
    "df_bike_trip_agg = df_bike_trip_agg[df_bike_trip_agg['departure_station_id'].isin(station_ids) | df_bike_trip_agg['return_station_id'].isin(station_ids)]\n",
    "\n",
    "with open( \"config/station_eigenvector_cent_confmap.json\") as f:\n",
    "    config_map = json.load(f)\n",
    "    \n",
    "map_bike_trips = KeplerGl(height=600,  data={\"Eigenvector Centrality\": df_eigenvector_cent, \"Bike trips\": df_bike_trip_agg}, config=config_map)\n",
    "map_bike_trips"
   ]
  },
  {
   "cell_type": "code",
   "execution_count": 68,
   "metadata": {},
   "outputs": [
    {
     "data": {
      "text/html": [
       "<div>\n",
       "<style scoped>\n",
       "    .dataframe tbody tr th:only-of-type {\n",
       "        vertical-align: middle;\n",
       "    }\n",
       "\n",
       "    .dataframe tbody tr th {\n",
       "        vertical-align: top;\n",
       "    }\n",
       "\n",
       "    .dataframe thead th {\n",
       "        text-align: right;\n",
       "    }\n",
       "</style>\n",
       "<table border=\"1\" class=\"dataframe\">\n",
       "  <thead>\n",
       "    <tr style=\"text-align: right;\">\n",
       "      <th></th>\n",
       "      <th>station_id</th>\n",
       "      <th>pagerank_centrality</th>\n",
       "      <th>station_name</th>\n",
       "    </tr>\n",
       "  </thead>\n",
       "  <tbody>\n",
       "    <tr>\n",
       "      <th>0</th>\n",
       "      <td>12</td>\n",
       "      <td>0.003115</td>\n",
       "      <td>147 - Constitución</td>\n",
       "    </tr>\n",
       "    <tr>\n",
       "      <th>1</th>\n",
       "      <td>30</td>\n",
       "      <td>0.003115</td>\n",
       "      <td>014 - Pacifico</td>\n",
       "    </tr>\n",
       "    <tr>\n",
       "      <th>2</th>\n",
       "      <td>226</td>\n",
       "      <td>0.003115</td>\n",
       "      <td>281 - Villa Urquiza</td>\n",
       "    </tr>\n",
       "    <tr>\n",
       "      <th>3</th>\n",
       "      <td>212</td>\n",
       "      <td>0.003115</td>\n",
       "      <td>255 - BARRANCAS DE BELGRANO</td>\n",
       "    </tr>\n",
       "    <tr>\n",
       "      <th>4</th>\n",
       "      <td>399</td>\n",
       "      <td>0.003115</td>\n",
       "      <td>352 - San Jose de Flores</td>\n",
       "    </tr>\n",
       "    <tr>\n",
       "      <th>5</th>\n",
       "      <td>17</td>\n",
       "      <td>0.003115</td>\n",
       "      <td>008 - Congreso</td>\n",
       "    </tr>\n",
       "    <tr>\n",
       "      <th>6</th>\n",
       "      <td>0</td>\n",
       "      <td>0.003115</td>\n",
       "      <td>005 - Plaza Italia</td>\n",
       "    </tr>\n",
       "    <tr>\n",
       "      <th>7</th>\n",
       "      <td>353</td>\n",
       "      <td>0.003115</td>\n",
       "      <td>207 - PLAZA ARENALES</td>\n",
       "    </tr>\n",
       "    <tr>\n",
       "      <th>8</th>\n",
       "      <td>337</td>\n",
       "      <td>0.003115</td>\n",
       "      <td>396 - PLAZA ALBERTI</td>\n",
       "    </tr>\n",
       "    <tr>\n",
       "      <th>9</th>\n",
       "      <td>100</td>\n",
       "      <td>0.003115</td>\n",
       "      <td>128 - PARQUE DEL BAJO</td>\n",
       "    </tr>\n",
       "  </tbody>\n",
       "</table>\n",
       "</div>"
      ],
      "text/plain": [
       "   station_id  pagerank_centrality                 station_name\n",
       "0          12             0.003115           147 - Constitución\n",
       "1          30             0.003115               014 - Pacifico\n",
       "2         226             0.003115          281 - Villa Urquiza\n",
       "3         212             0.003115  255 - BARRANCAS DE BELGRANO\n",
       "4         399             0.003115     352 - San Jose de Flores\n",
       "5          17             0.003115               008 - Congreso\n",
       "6           0             0.003115           005 - Plaza Italia\n",
       "7         353             0.003115         207 - PLAZA ARENALES\n",
       "8         337             0.003115          396 - PLAZA ALBERTI\n",
       "9         100             0.003115        128 - PARQUE DEL BAJO"
      ]
     },
     "execution_count": 68,
     "metadata": {},
     "output_type": "execute_result"
    }
   ],
   "source": [
    "# PageRank\n",
    "pr = nk.centrality.PageRank(G2023, 1e-6)\n",
    "pr.run()\n",
    "\n",
    "df_pagerank_cent = pd.DataFrame(pr.ranking(), columns=['station_id', 'pagerank_centrality'])\n",
    "\n",
    "df_pagerank_cent = pd.merge(df_pagerank_cent, df_bike_station, on=['station_id'], how='inner').sort_values('pagerank_centrality', ascending=False)\n",
    "df_pagerank_cent.head(10)"
   ]
  },
  {
   "cell_type": "markdown",
   "metadata": {},
   "source": [
    "### Community Detection\n",
    "This section demonstrates the community detection capabilities of NetworKit. Community detection is concerned with identifying groups of nodes which are significantly more densely connected to eachother than to the rest of the network.\n",
    "\n",
    "Code for community detection is contained in the community module. The module provides a top-level function to quickly perform community detection with a suitable algorithm and print some stats about the result.\n",
    "\n"
   ]
  },
  {
   "cell_type": "code",
   "execution_count": 71,
   "metadata": {},
   "outputs": [
    {
     "name": "stdout",
     "output_type": "stream",
     "text": [
      "Year: 2023\n",
      "Number of nodes:  321  - Number of edges:  54069  - Number of self loops:  320\n"
     ]
    }
   ],
   "source": [
    "G2023 = bikeGraph(df_bike_trip, 2023, weight='count', directed=False)\n",
    "print(\"Year: 2023\")\n",
    "print(\"Number of nodes: \", G2023.numberOfNodes(), \" - Number of edges: \", G2023.numberOfEdges(), \" - Number of self loops: \", G2023.numberOfSelfLoops())"
   ]
  },
  {
   "cell_type": "code",
   "execution_count": 72,
   "metadata": {},
   "outputs": [
    {
     "name": "stdout",
     "output_type": "stream",
     "text": [
      "Communities detected in 0.00898 [s]\n",
      "solution properties:\n",
      "-------------------  -------------\n",
      "# communities             5\n",
      "min community size       43\n",
      "max community size       91\n",
      "avg. community size      64.2\n",
      "imbalance                 1.4\n",
      "edge cut             322544\n",
      "edge cut (portion)        5.96541\n",
      "modularity                0.446604\n",
      "-------------------  -------------\n"
     ]
    },
    {
     "name": "stderr",
     "output_type": "stream",
     "text": [
      "/Users/galissa/miniconda3/envs/graph/lib/python3.8/site-packages/networkit/stopwatch.py:49: UserWarning: networkit.Timer is deprecated, will be removed in future updates.\n",
      "  warn(\"networkit.Timer is deprecated, will be removed in future updates.\")\n"
     ]
    }
   ],
   "source": [
    "# Choose and initialize algorithm\n",
    "plmCommunities = nk.community.detectCommunities(G2023, algo=nk.community.PLM(G2023, True))"
   ]
  },
  {
   "cell_type": "markdown",
   "metadata": {},
   "source": [
    "Each community is associated with a unique integer id, and each node is associated to a community id. plpCommunityIDs is a set that contains all the community ids, while plpCommunities is a vector of size n (number of nodes of the graph) that contains the community id of each node (for example, use c = plpCommunities[v] to store in c the community id of node v)."
   ]
  },
  {
   "cell_type": "code",
   "execution_count": 105,
   "metadata": {},
   "outputs": [],
   "source": [
    "# Creating an instance of PLP and running the algorithm.\n",
    "# Use community.PLM(g) to run the PLM algorithm.\n",
    "plp = nk.community.PLP(G2023, baseClustering=plmCommunities).run()\n",
    "\n",
    "# Getting the Partition object.\n",
    "plpPartition = plp.getPartition()\n",
    "\n",
    "# Getting the community IDs.\n",
    "plpCommunityIDs = plpPartition.getSubsetIds()\n",
    "\n",
    "# Getting the community ID of each node of the graph g.\n",
    "plpCommunities = plpPartition.getVector()"
   ]
  },
  {
   "cell_type": "code",
   "execution_count": null,
   "metadata": {},
   "outputs": [],
   "source": []
  },
  {
   "cell_type": "code",
   "execution_count": 106,
   "metadata": {},
   "outputs": [
    {
     "data": {
      "text/plain": [
       "{0, 1, 2, 3, 4}"
      ]
     },
     "execution_count": 106,
     "metadata": {},
     "output_type": "execute_result"
    }
   ],
   "source": [
    "plpCommunityIDs"
   ]
  },
  {
   "cell_type": "code",
   "execution_count": 107,
   "metadata": {},
   "outputs": [
    {
     "data": {
      "text/plain": [
       "(array([0.00000000e+00, 1.00000000e+00, 2.00000000e+00, 3.00000000e+00,\n",
       "        4.00000000e+00, 1.84467441e+19]),\n",
       " array([ 57,  55,  43,  91,  75, 128]))"
      ]
     },
     "execution_count": 107,
     "metadata": {},
     "output_type": "execute_result"
    }
   ],
   "source": [
    "np.unique(plpCommunities, return_counts=True)"
   ]
  },
  {
   "cell_type": "code",
   "execution_count": 108,
   "metadata": {},
   "outputs": [
    {
     "name": "stdout",
     "output_type": "stream",
     "text": [
      "449 elements assigned to 5 subsets\n"
     ]
    }
   ],
   "source": [
    "print(\"{0} elements assigned to {1} subsets\".format(plmCommunities.numberOfElements(),\n",
    "                                                    plmCommunities.numberOfSubsets()))"
   ]
  },
  {
   "cell_type": "code",
   "execution_count": 109,
   "metadata": {},
   "outputs": [
    {
     "name": "stdout",
     "output_type": "stream",
     "text": [
      "the biggest subset has size 91\n"
     ]
    }
   ],
   "source": [
    "print(\"the biggest subset has size {0}\".format(max(plmCommunities.subsetSizes())))"
   ]
  },
  {
   "cell_type": "code",
   "execution_count": 114,
   "metadata": {},
   "outputs": [
    {
     "data": {
      "text/plain": [
       "321"
      ]
     },
     "execution_count": 114,
     "metadata": {},
     "output_type": "execute_result"
    }
   ],
   "source": [
    "plpCommunities.__len__() - 128"
   ]
  },
  {
   "cell_type": "code",
   "execution_count": 153,
   "metadata": {},
   "outputs": [],
   "source": [
    "\n",
    "nodes = []\n",
    "plp_comm = []\n",
    "for u in G2023.iterNodes():\n",
    "    nodes.append(u)\n",
    "    plp_comm.append(plpCommunities[u])\n",
    "\n",
    "df_plp_communities = pd.DataFrame({\"station_id\": nodes, \"plp_communitie\": plp_comm})"
   ]
  },
  {
   "cell_type": "code",
   "execution_count": 155,
   "metadata": {},
   "outputs": [],
   "source": [
    "df_bike_trip_agg = df_bike_trip[df_bike_trip['year']==2023].groupby(['departure_station_id', 'return_station_id'])\\\n",
    "                                .agg({'departure_long':'min', 'departure_lat':'min', 'return_station_long':'min', 'return_station_lat':'min', 'rout_id': 'count'})\\\n",
    "                                .reset_index()\n",
    "\n",
    "df_bike_trip_agg = df_bike_trip_agg.dropna()\n",
    "\n",
    "df_bike_trip_agg = df_bike_trip_agg[df_bike_trip_agg['departure_station_id']!=df_bike_trip_agg['return_station_id'] ]\n",
    "\n",
    "\n",
    "df_bike_trip_agg = pd.merge(df_bike_trip_agg, df_plp_communities, left_on='departure_station_id', right_on='station_id', how='left')\n",
    "df_bike_trip_agg = pd.merge(df_bike_trip_agg, df_plp_communities, left_on='return_station_id', right_on='station_id', how='left')\n",
    "df_bike_trip_agg['plp_communitie'] = np.where(df_bike_trip_agg['plp_communitie_x']==df_bike_trip_agg['plp_communitie_y'], df_bike_trip_agg['plp_communitie_x'], -1)\n",
    "\n",
    "df_bike_trip_agg=df_bike_trip_agg[['departure_station_id', 'return_station_id', 'departure_long',\n",
    "       'departure_lat', 'return_station_long', 'return_station_lat', 'rout_id',\n",
    "       'plp_communitie']]"
   ]
  },
  {
   "cell_type": "code",
   "execution_count": 167,
   "metadata": {},
   "outputs": [
    {
     "name": "stdout",
     "output_type": "stream",
     "text": [
      "User Guide: https://docs.kepler.gl/docs/keplergl-jupyter\n"
     ]
    },
    {
     "data": {
      "application/vnd.jupyter.widget-view+json": {
       "model_id": "f028f02033524726a3093e40533efe03",
       "version_major": 2,
       "version_minor": 0
      },
      "text/plain": [
       "KeplerGl(config={'version': 'v1', 'config': {'visState': {'filters': [], 'layers': [{'id': 'uh0ijun', 'type': …"
      ]
     },
     "metadata": {},
     "output_type": "display_data"
    }
   ],
   "source": [
    "with open( \"config/trip_communities_confmap.json\") as f:\n",
    "    config_map = json.load(f)\n",
    "    \n",
    "map_bike_trips = KeplerGl(height=600,  data={\"PLP Communities\": df_bike_trip_agg}, config=config_map)\n",
    "map_bike_trips"
   ]
  },
  {
   "cell_type": "markdown",
   "metadata": {},
   "source": [
    "Being that buenos aires city is such a big area you will find that the areas in which people travel are within 4 specific zones "
   ]
  },
  {
   "cell_type": "markdown",
   "metadata": {},
   "source": [
    "# Conclusion\n",
    "Understanding the data is an important step for the business to gain insights into their operations and make data-driven decisions to achieve their business objectives. Data which requires geolocation often needs to be visualised in graphs to better understand how the nodes and edges are relative to and interact with one another.\n",
    "For instance, in this tutorial, the business we were able to explore the trips and customers behaviour, and from there understand which are the more frequently bike stations. This was helpful in providing insights into the way Baywheels can manage their inventory.\n",
    "The analysis done above happens on LynxKite which has just been made free and accessible for anyone to try! There are other tutorials available on their website which are easy to follow. As a drag and drop platform, the learning curve is gentle and easy to pick up. Save yourself precious time from writing code to plotting graphs when you can pull and have the platform do a variety of graphing analysis and visualisations for you! Check out our second article if you want to know how we put these analyses together on LynxKite."
   ]
  },
  {
   "cell_type": "markdown",
   "metadata": {},
   "source": []
  }
 ],
 "metadata": {
  "kernelspec": {
   "display_name": "Python 3 (ipykernel)",
   "language": "python",
   "name": "python3"
  },
  "language_info": {
   "codemirror_mode": {
    "name": "ipython",
    "version": 3
   },
   "file_extension": ".py",
   "mimetype": "text/x-python",
   "name": "python",
   "nbconvert_exporter": "python",
   "pygments_lexer": "ipython3",
   "version": "3.8.16"
  }
 },
 "nbformat": 4,
 "nbformat_minor": 4
}
