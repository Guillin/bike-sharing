{
 "cells": [
  {
   "cell_type": "markdown",
   "metadata": {},
   "source": [
    "# 1. Introduction\n",
    "\n",
    "In this article we are going to analyze the Buenos Aires city bike system looking at it as a complex network. This abstraction allows to reduce the amount of information available and focus primarily on the internal structure of the underlying system. This is the second part of our series about `Buenos aires bike sharing system`, we encourage you to check out the first part in order to grasp easily what comes next.\n",
    "\n",
    "The tool that we are using to carry out this analysis is [networkit library](https://networkit.github.io/index.html), which is an open-source toolkit for large-scale network analysis. Beside, we are using [kepler.gl](https://kepler.gl) to superimpose the nodes and edges on a map according to their position attributes (longitude and latitude).\n",
    "\n"
   ]
  },
  {
   "cell_type": "code",
   "execution_count": 1,
   "metadata": {},
   "outputs": [
    {
     "data": {
      "text/html": [
       "\n",
       "\t\t\t<script type=\"text/javascript\">\n",
       "\t\t\t<!--\n",
       "\t\t\t\t\n",
       "\t\t\t{\n",
       "\t\t\t\tvar element = document.getElementById('NetworKit_script');\n",
       "\t\t\t\tif (element) {\n",
       "\t\t\t\t\telement.parentNode.removeChild(element);\n",
       "\t\t\t\t}\n",
       "\t\t\t\telement = document.createElement('script');\n",
       "\t\t\t\telement.type = 'text/javascript';\n",
       "\t\t\t\telement.innerHTML = 'function NetworKit_pageEmbed(id) { var i, j; var elements; elements = document.getElementById(id).getElementsByClassName(\"Plot\"); for (i=0; i<elements.length; i++) { elements[i].id = id + \"_Plot_\" + i; var data = elements[i].getAttribute(\"data-image\").split(\"|\"); elements[i].removeAttribute(\"data-image\"); var content = \"<div class=\\\\\"Image\\\\\" id=\\\\\"\" + elements[i].id + \"_Image\\\\\" />\"; elements[i].innerHTML = content; elements[i].setAttribute(\"data-image-index\", 0); elements[i].setAttribute(\"data-image-length\", data.length); for (j=0; j<data.length; j++) { elements[i].setAttribute(\"data-image-\" + j, data[j]); } NetworKit_plotUpdate(elements[i]); elements[i].onclick = function (e) { NetworKit_overlayShow((e.target) ? e.target : e.srcElement); } } elements = document.getElementById(id).getElementsByClassName(\"HeatCell\"); for (i=0; i<elements.length; i++) { var data = parseFloat(elements[i].getAttribute(\"data-heat\")); var color = \"#00FF00\"; if (data <= 1 && data > 0) { color = \"hsla(0, 100%, 75%, \" + (data) + \")\"; } else if (data <= 0 && data >= -1) { color = \"hsla(240, 100%, 75%, \" + (-data) + \")\"; } elements[i].style.backgroundColor = color; } elements = document.getElementById(id).getElementsByClassName(\"Details\"); for (i=0; i<elements.length; i++) { elements[i].setAttribute(\"data-title\", \"-\"); NetworKit_toggleDetails(elements[i]); elements[i].onclick = function (e) { NetworKit_toggleDetails((e.target) ? e.target : e.srcElement); } } elements = document.getElementById(id).getElementsByClassName(\"MathValue\"); for (i=elements.length-1; i>=0; i--) { value = elements[i].innerHTML.trim(); if (value === \"nan\") { elements[i].parentNode.innerHTML = \"\" } } elements = document.getElementById(id).getElementsByClassName(\"SubCategory\"); for (i=elements.length-1; i>=0; i--) { value = elements[i].innerHTML.trim(); if (value === \"\") { elements[i].parentNode.removeChild(elements[i]) } } elements = document.getElementById(id).getElementsByClassName(\"Category\"); for (i=elements.length-1; i>=0; i--) { value = elements[i].innerHTML.trim(); if (value === \"\") { elements[i].parentNode.removeChild(elements[i]) } } var isFirefox = false; try { isFirefox = typeof InstallTrigger !== \"undefined\"; } catch (e) {} if (!isFirefox) { alert(\"Currently the function\\'s output is only fully supported by Firefox.\"); } } function NetworKit_plotUpdate(source) { var index = source.getAttribute(\"data-image-index\"); var data = source.getAttribute(\"data-image-\" + index); var image = document.getElementById(source.id + \"_Image\"); image.style.backgroundImage = \"url(\" + data + \")\"; } function NetworKit_showElement(id, show) { var element = document.getElementById(id); element.style.display = (show) ? \"block\" : \"none\"; } function NetworKit_overlayShow(source) { NetworKit_overlayUpdate(source); NetworKit_showElement(\"NetworKit_Overlay\", true); } function NetworKit_overlayUpdate(source) { document.getElementById(\"NetworKit_Overlay_Title\").innerHTML = source.title; var index = source.getAttribute(\"data-image-index\"); var data = source.getAttribute(\"data-image-\" + index); var image = document.getElementById(\"NetworKit_Overlay_Image\"); image.setAttribute(\"data-id\", source.id); image.style.backgroundImage = \"url(\" + data + \")\"; var link = document.getElementById(\"NetworKit_Overlay_Toolbar_Bottom_Save\"); link.href = data; link.download = source.title + \".svg\"; } function NetworKit_overlayImageShift(delta) { var image = document.getElementById(\"NetworKit_Overlay_Image\"); var source = document.getElementById(image.getAttribute(\"data-id\")); var index = parseInt(source.getAttribute(\"data-image-index\")); var length = parseInt(source.getAttribute(\"data-image-length\")); var index = (index+delta) % length; if (index < 0) { index = length + index; } source.setAttribute(\"data-image-index\", index); NetworKit_overlayUpdate(source); } function NetworKit_toggleDetails(source) { var childs = source.children; var show = false; if (source.getAttribute(\"data-title\") == \"-\") { source.setAttribute(\"data-title\", \"+\"); show = false; } else { source.setAttribute(\"data-title\", \"-\"); show = true; } for (i=0; i<childs.length; i++) { if (show) { childs[i].style.display = \"block\"; } else { childs[i].style.display = \"none\"; } } }';\n",
       "\t\t\t\telement.setAttribute('id', 'NetworKit_script');\n",
       "\t\t\t\tdocument.head.appendChild(element);\n",
       "\t\t\t}\n",
       "\t\t\n",
       "\t\t\t\t\n",
       "\t\t\t{\n",
       "\t\t\t\tvar element = document.getElementById('NetworKit_style');\n",
       "\t\t\t\tif (element) {\n",
       "\t\t\t\t\telement.parentNode.removeChild(element);\n",
       "\t\t\t\t}\n",
       "\t\t\t\telement = document.createElement('style');\n",
       "\t\t\t\telement.type = 'text/css';\n",
       "\t\t\t\telement.innerHTML = '.NetworKit_Page { font-family: Arial, Helvetica, sans-serif; font-size: 14px; } .NetworKit_Page .Value:before { font-family: Arial, Helvetica, sans-serif; font-size: 1.05em; content: attr(data-title) \":\"; margin-left: -2.5em; padding-right: 0.5em; } .NetworKit_Page .Details .Value:before { display: block; } .NetworKit_Page .Value { font-family: monospace; white-space: pre; padding-left: 2.5em; white-space: -moz-pre-wrap !important; white-space: -pre-wrap; white-space: -o-pre-wrap; white-space: pre-wrap; word-wrap: break-word; tab-size: 4; -moz-tab-size: 4; } .NetworKit_Page .Category { clear: both; padding-left: 1em; margin-bottom: 1.5em; } .NetworKit_Page .Category:before { content: attr(data-title); font-size: 1.75em; display: block; margin-left: -0.8em; margin-bottom: 0.5em; } .NetworKit_Page .SubCategory { margin-bottom: 1.5em; padding-left: 1em; } .NetworKit_Page .SubCategory:before { font-size: 1.6em; display: block; margin-left: -0.8em; margin-bottom: 0.5em; } .NetworKit_Page .SubCategory[data-title]:before { content: attr(data-title); } .NetworKit_Page .Block { display: block; } .NetworKit_Page .Block:after { content: \".\"; visibility: hidden; display: block; height: 0; clear: both; } .NetworKit_Page .Block .Thumbnail_Overview, .NetworKit_Page .Block .Thumbnail_ScatterPlot { width: 260px; float: left; } .NetworKit_Page .Block .Thumbnail_Overview img, .NetworKit_Page .Block .Thumbnail_ScatterPlot img { width: 260px; } .NetworKit_Page .Block .Thumbnail_Overview:before, .NetworKit_Page .Block .Thumbnail_ScatterPlot:before { display: block; text-align: center; font-weight: bold; } .NetworKit_Page .Block .Thumbnail_Overview:before { content: attr(data-title); } .NetworKit_Page .HeatCell { font-family: \"Courier New\", Courier, monospace; cursor: pointer; } .NetworKit_Page .HeatCell, .NetworKit_Page .HeatCellName { display: inline; padding: 0.1em; margin-right: 2px; background-color: #FFFFFF } .NetworKit_Page .HeatCellName { margin-left: 0.25em; } .NetworKit_Page .HeatCell:before { content: attr(data-heat); display: inline-block; color: #000000; width: 4em; text-align: center; } .NetworKit_Page .Measure { clear: both; } .NetworKit_Page .Measure .Details { cursor: pointer; } .NetworKit_Page .Measure .Details:before { content: \"[\" attr(data-title) \"]\"; display: block; } .NetworKit_Page .Measure .Details .Value { border-left: 1px dotted black; margin-left: 0.4em; padding-left: 3.5em; pointer-events: none; } .NetworKit_Page .Measure .Details .Spacer:before { content: \".\"; opacity: 0.0; pointer-events: none; } .NetworKit_Page .Measure .Plot { width: 440px; height: 440px; cursor: pointer; float: left; margin-left: -0.9em; margin-right: 20px; } .NetworKit_Page .Measure .Plot .Image { background-repeat: no-repeat; background-position: center center; background-size: contain; height: 100%; pointer-events: none; } .NetworKit_Page .Measure .Stat { width: 500px; float: left; } .NetworKit_Page .Measure .Stat .Group { padding-left: 1.25em; margin-bottom: 0.75em; } .NetworKit_Page .Measure .Stat .Group .Title { font-size: 1.1em; display: block; margin-bottom: 0.3em; margin-left: -0.75em; border-right-style: dotted; border-right-width: 1px; border-bottom-style: dotted; border-bottom-width: 1px; background-color: #D0D0D0; padding-left: 0.2em; } .NetworKit_Page .Measure .Stat .Group .List { -webkit-column-count: 3; -moz-column-count: 3; column-count: 3; } .NetworKit_Page .Measure .Stat .Group .List .Entry { position: relative; line-height: 1.75em; } .NetworKit_Page .Measure .Stat .Group .List .Entry[data-tooltip]:before { position: absolute; left: 0; top: -40px; background-color: #808080; color: #ffffff; height: 30px; line-height: 30px; border-radius: 5px; padding: 0 15px; content: attr(data-tooltip); white-space: nowrap; display: none; } .NetworKit_Page .Measure .Stat .Group .List .Entry[data-tooltip]:after { position: absolute; left: 15px; top: -10px; border-top: 7px solid #808080; border-left: 7px solid transparent; border-right: 7px solid transparent; content: \"\"; display: none; } .NetworKit_Page .Measure .Stat .Group .List .Entry[data-tooltip]:hover:after, .NetworKit_Page .Measure .Stat .Group .List .Entry[data-tooltip]:hover:before { display: block; } .NetworKit_Page .Measure .Stat .Group .List .Entry .MathValue { font-family: \"Courier New\", Courier, monospace; } .NetworKit_Page .Measure:after { content: \".\"; visibility: hidden; display: block; height: 0; clear: both; } .NetworKit_Page .PartitionPie { clear: both; } .NetworKit_Page .PartitionPie img { width: 600px; } #NetworKit_Overlay { left: 0px; top: 0px; display: none; position: absolute; width: 100%; height: 100%; background-color: rgba(0,0,0,0.6); z-index: 1000; } #NetworKit_Overlay_Title { position: absolute; color: white; transform: rotate(-90deg); width: 32em; height: 32em; padding-right: 0.5em; padding-top: 0.5em; text-align: right; font-size: 40px; } #NetworKit_Overlay .button { background: white; cursor: pointer; } #NetworKit_Overlay .button:before { size: 13px; display: inline-block; text-align: center; margin-top: 0.5em; margin-bottom: 0.5em; width: 1.5em; height: 1.5em; } #NetworKit_Overlay .icon-close:before { content: \"X\"; } #NetworKit_Overlay .icon-previous:before { content: \"P\"; } #NetworKit_Overlay .icon-next:before { content: \"N\"; } #NetworKit_Overlay .icon-save:before { content: \"S\"; } #NetworKit_Overlay_Toolbar_Top, #NetworKit_Overlay_Toolbar_Bottom { position: absolute; width: 40px; right: 13px; text-align: right; z-index: 1100; } #NetworKit_Overlay_Toolbar_Top { top: 0.5em; } #NetworKit_Overlay_Toolbar_Bottom { Bottom: 0.5em; } #NetworKit_Overlay_ImageContainer { position: absolute; top: 5%; left: 5%; height: 90%; width: 90%; background-repeat: no-repeat; background-position: center center; background-size: contain; } #NetworKit_Overlay_Image { height: 100%; width: 100%; background-repeat: no-repeat; background-position: center center; background-size: contain; }';\n",
       "\t\t\t\telement.setAttribute('id', 'NetworKit_style');\n",
       "\t\t\t\tdocument.head.appendChild(element);\n",
       "\t\t\t}\n",
       "\t\t\n",
       "\t\t\t\t\n",
       "\t\t\t{\n",
       "\t\t\t\tvar element = document.getElementById('NetworKit_Overlay');\n",
       "\t\t\t\tif (element) {\n",
       "\t\t\t\t\telement.parentNode.removeChild(element);\n",
       "\t\t\t\t}\n",
       "\t\t\t\telement = document.createElement('div');\n",
       "\t\t\t\telement.innerHTML = '<div id=\"NetworKit_Overlay_Toolbar_Top\"><div class=\"button icon-close\" id=\"NetworKit_Overlay_Close\" /></div><div id=\"NetworKit_Overlay_Title\" /> <div id=\"NetworKit_Overlay_ImageContainer\"> <div id=\"NetworKit_Overlay_Image\" /> </div> <div id=\"NetworKit_Overlay_Toolbar_Bottom\"> <div class=\"button icon-previous\" onclick=\"NetworKit_overlayImageShift(-1)\" /> <div class=\"button icon-next\" onclick=\"NetworKit_overlayImageShift(1)\" /> <a id=\"NetworKit_Overlay_Toolbar_Bottom_Save\"><div class=\"button icon-save\" /></a> </div>';\n",
       "\t\t\t\telement.setAttribute('id', 'NetworKit_Overlay');\n",
       "\t\t\t\tdocument.body.appendChild(element);\n",
       "\t\t\t\tdocument.getElementById('NetworKit_Overlay_Close').onclick = function (e) {\n",
       "\t\t\t\t\tdocument.getElementById('NetworKit_Overlay').style.display = 'none';\n",
       "\t\t\t\t}\n",
       "\t\t\t}\n",
       "\t\t\n",
       "\t\t\t-->\n",
       "\t\t\t</script>\n",
       "\t\t"
      ]
     },
     "metadata": {},
     "output_type": "display_data"
    }
   ],
   "source": [
    "import pandas as pd\n",
    "import numpy as np\n",
    "import json\n",
    "import os\n",
    "\n",
    "# Network analysis\n",
    "import networkit as nk  \n",
    "\n",
    "\n",
    "# Visualization\n",
    "import matplotlib.pyplot as plt\n",
    "from keplergl import KeplerGl\n"
   ]
  },
  {
   "cell_type": "code",
   "execution_count": 2,
   "metadata": {},
   "outputs": [],
   "source": [
    "BLUE = (0.5529411764705883, 0.6274509803921569, 0.796078431372549)\n",
    "PATH = \"data/\""
   ]
  },
  {
   "cell_type": "code",
   "execution_count": 3,
   "metadata": {},
   "outputs": [],
   "source": [
    "with open('bike_stations_encoded.json') as f:\n",
    "    bike_station_en = json.load(f)"
   ]
  },
  {
   "cell_type": "markdown",
   "metadata": {},
   "source": [
    "# 2. Load dataset\n",
    "\n",
    "\n",
    "The data covers 449 stations and about 15 Millions trips that have occurred between 2019 and middle 2023 in the Buenos Aires city.\n",
    "\n",
    "`bike_share_baires` has information about each ride from 2019 to 2023.\n",
    "\n",
    "`bike_station_name` has information about station name.\n"
   ]
  },
  {
   "cell_type": "code",
   "execution_count": 4,
   "metadata": {},
   "outputs": [],
   "source": [
    "df_bike_trip = pd.read_parquet(os.path.join(PATH, \"bike_share_baires.parquet\"), columns=['rout_id', 'duration', 'departure_station_id',\n",
    "       'departure_long', 'departure_lat', 'return_station_id', 'return_station_long', 'return_station_lat', 'year'])"
   ]
  },
  {
   "cell_type": "code",
   "execution_count": 5,
   "metadata": {},
   "outputs": [],
   "source": [
    "df_bike_trip['departure_station_id'] = df_bike_trip['departure_station_id'].map(bike_station_en)\n",
    "df_bike_trip['return_station_id'] = df_bike_trip['return_station_id'].map(bike_station_en)"
   ]
  },
  {
   "cell_type": "code",
   "execution_count": 6,
   "metadata": {},
   "outputs": [],
   "source": [
    "df_departure_station = pd.read_csv(os.path.join(PATH, \"bike_station_name.csv\"))\n",
    "df_departure_station.columns = ['departure_station_id', 'departure_station_name']"
   ]
  },
  {
   "cell_type": "code",
   "execution_count": 7,
   "metadata": {},
   "outputs": [],
   "source": [
    "df_bike_station = pd.read_csv(os.path.join(PATH, \"bike_station_name.csv\"))"
   ]
  },
  {
   "cell_type": "code",
   "execution_count": 8,
   "metadata": {},
   "outputs": [],
   "source": [
    "df_return_station = pd.read_csv(os.path.join(PATH, \"bike_station_name.csv\"))\n",
    "df_return_station.columns = ['return_station_id', 'return_station_name']"
   ]
  },
  {
   "cell_type": "code",
   "execution_count": 9,
   "metadata": {},
   "outputs": [],
   "source": [
    "df_bike_trip = pd.merge(df_bike_trip, df_departure_station, on=['departure_station_id'], how='left')\n",
    "df_bike_trip = pd.merge(df_bike_trip, df_return_station, on=['return_station_id'], how='left')"
   ]
  },
  {
   "cell_type": "code",
   "execution_count": 10,
   "metadata": {},
   "outputs": [],
   "source": [
    "df_bike_trip = df_bike_trip[(df_bike_trip['departure_station_id']!=50) & (df_bike_trip['departure_station_id']!=53) & (df_bike_trip['return_station_id']!=50) & (df_bike_trip['return_station_id']!=53)]"
   ]
  },
  {
   "cell_type": "code",
   "execution_count": 11,
   "metadata": {},
   "outputs": [],
   "source": [
    "df_bike_station_geo = df_bike_trip[['departure_station_id', 'departure_lat', 'departure_long']].drop_duplicates(['departure_station_id'])\n",
    "df_bike_station_geo.columns = ['station_id', 'lat', 'long']"
   ]
  },
  {
   "attachments": {},
   "cell_type": "markdown",
   "metadata": {},
   "source": [
    "# 3.  Graph Object instance \n",
    "\n",
    "Here we define our Graphs which we are going to work with. Since the bike system has changed over the years we are going to build a network for each year."
   ]
  },
  {
   "cell_type": "code",
   "execution_count": 12,
   "metadata": {},
   "outputs": [],
   "source": [
    "def bikeGraph(dataframe, year=None, weight='count', directed=True):\n",
    "\n",
    "\n",
    "    if year is None:\n",
    "        df = df_bike_trip.copy()\n",
    "    else: \n",
    "        df = df_bike_trip[df_bike_trip['year']==year].copy()\n",
    "\n",
    "\n",
    "    # aggregating data\n",
    "    # creating pairs\n",
    "    # if 457 station, then we make a lot of pairs.\n",
    "    origins = df['departure_station_id'].unique().tolist()\n",
    "    destins = df['return_station_id'].unique().tolist()\n",
    "\n",
    "    # creating pairs of trips\n",
    "    pairs_list=[]\n",
    "    for origin in origins:\n",
    "        for destin in destins:\n",
    "            stat_pair = (origin, destin)\n",
    "            \n",
    "            pairs_list.append(stat_pair)\n",
    "    routes_list = list(range(len(pairs_list)))\n",
    "    # dictionary with pairs and ID\n",
    "    routes_dict = dict(zip(pairs_list, routes_list))\n",
    "\n",
    "    # adding a columns with station pairs\n",
    "    df['pairs'] = [(orID, deID) for orID, deID in zip(df['departure_station_id'].to_list(),\n",
    "                                                                    df['return_station_id'].to_list())]\n",
    "\n",
    "    df[\"path_id\"] = df['pairs'].map(routes_dict)\n",
    "    df[\"path_id\"] = df[\"path_id\"].astype(\"category\")\n",
    "    df = df.dropna()\n",
    "\n",
    "    assert weight in ['count', 'duration'], f\"'{weight}' not found in model dispatcher. Try with 'count' or 'duration'.\"\n",
    "\n",
    "    if weight == 'count':\n",
    "        df_agg = df.groupby(\"pairs\").agg({\"departure_station_id\": \"max\",  \"return_station_id\": \"max\", \"pairs\": \"count\"\n",
    "        })\n",
    "    else :\n",
    "        df_agg = df.groupby(\"pairs\").agg({\"departure_station_id\": \"max\",  \"return_station_id\": \"max\", \"duration\": \"mean\"\n",
    "        })\n",
    "\n",
    "\n",
    "    df_agg.columns = ['departure_station_id', 'return_station_id', 'weight']\n",
    "\n",
    "    \n",
    "    # Graphs\n",
    "    G = nk.graph.Graph(weighted=True, directed=directed)\n",
    "    num_nodes = max(df_agg['departure_station_id'].max() ,df_agg['return_station_id'].max()) + 1\n",
    "    for i in range(num_nodes):\n",
    "        G.addNode()\n",
    "    \n",
    "    for idx, row in df_agg.iterrows():\n",
    "        G.addEdge(row['departure_station_id'], row['return_station_id'], row['weight'])\n",
    "\n",
    "    # remove isoloted nodes (fix problem with station id that change over year)\n",
    "    for u in G.iterNodes():\n",
    "        if G.isIsolated(u):\n",
    "            G.removeNode(u)\n",
    "\n",
    "    return G\n"
   ]
  },
  {
   "cell_type": "code",
   "execution_count": 13,
   "metadata": {},
   "outputs": [
    {
     "name": "stdout",
     "output_type": "stream",
     "text": [
      "Year: 2019\n",
      "Number of nodes:  409  - Number of edges:  138660  - Number of self loops:  409\n"
     ]
    }
   ],
   "source": [
    "G2019 = bikeGraph(df_bike_trip, 2019, weight='count')\n",
    "print(\"Year: 2019\")\n",
    "print(\"Number of nodes: \", G2019.numberOfNodes(), \" - Number of edges: \", G2019.numberOfEdges(), \" - Number of self loops: \", G2019.numberOfSelfLoops())"
   ]
  },
  {
   "cell_type": "code",
   "execution_count": 14,
   "metadata": {},
   "outputs": [
    {
     "name": "stdout",
     "output_type": "stream",
     "text": [
      "Year: 2020\n",
      "Number of nodes:  398  - Number of edges:  94192  - Number of self loops:  398\n"
     ]
    }
   ],
   "source": [
    "G2020 = bikeGraph(df_bike_trip, 2020, weight='count')\n",
    "print(\"Year: 2020\")\n",
    "print(\"Number of nodes: \", G2020.numberOfNodes(), \" - Number of edges: \", G2020.numberOfEdges(), \" - Number of self loops: \", G2020.numberOfSelfLoops())"
   ]
  },
  {
   "cell_type": "code",
   "execution_count": 15,
   "metadata": {},
   "outputs": [
    {
     "name": "stdout",
     "output_type": "stream",
     "text": [
      "Year: 2021\n",
      "Number of nodes:  274  - Number of edges:  51106  - Number of self loops:  274\n"
     ]
    }
   ],
   "source": [
    "G2021 = bikeGraph(df_bike_trip, 2021, weight='count')\n",
    "print(\"Year: 2021\")\n",
    "print(\"Number of nodes: \", G2021.numberOfNodes(), \" - Number of edges: \", G2021.numberOfEdges(), \" - Number of self loops: \", G2021.numberOfSelfLoops())"
   ]
  },
  {
   "cell_type": "code",
   "execution_count": 16,
   "metadata": {},
   "outputs": [
    {
     "name": "stdout",
     "output_type": "stream",
     "text": [
      "Year: 2022\n",
      "Number of nodes:  329  - Number of edges:  68813  - Number of self loops:  328\n"
     ]
    }
   ],
   "source": [
    "G2022 = bikeGraph(df_bike_trip, 2022, weight='count')\n",
    "print(\"Year: 2022\")\n",
    "print(\"Number of nodes: \", G2022.numberOfNodes(), \" - Number of edges: \", G2022.numberOfEdges(), \" - Number of self loops: \", G2022.numberOfSelfLoops())"
   ]
  },
  {
   "cell_type": "code",
   "execution_count": 17,
   "metadata": {},
   "outputs": [
    {
     "name": "stdout",
     "output_type": "stream",
     "text": [
      "Year: 2023\n",
      "Number of nodes:  321  - Number of edges:  54069  - Number of self loops:  320\n"
     ]
    }
   ],
   "source": [
    "G2023 = bikeGraph(df_bike_trip, 2023, weight='count')\n",
    "print(\"Year: 2023\")\n",
    "print(\"Number of nodes: \", G2023.numberOfNodes(), \" - Number of edges: \", G2023.numberOfEdges(), \" - Number of self loops: \", G2023.numberOfSelfLoops())"
   ]
  },
  {
   "cell_type": "markdown",
   "metadata": {},
   "source": [
    "We can see that some changes are obvios in respecto to the number of nodes and edges over the years. In 2019 we observe the most number of vertices and edges and also how it has reduced in the last years as seen before in the previous analysis.\n",
    "\n",
    "Most of the nodes have a self loop, because most trips start and end in the same station. "
   ]
  },
  {
   "cell_type": "markdown",
   "metadata": {},
   "source": [
    "# 4. Centrality Measure\n",
    "\n",
    "\n",
    "## 4.1. Degree centrality\n",
    "Node degree or the number of edges connected to a node, is one of the most studied properties of the network. Types of networks are often characterized in terms of their distribution of node degrees. \n",
    "\n",
    "${C}_{D}(i) =  {\\sum \\limits _{i=1} ^{N} x_{ij}  }_{{i}\\ne{j}} $\n",
    "\n",
    "A node with a high degree is a node to be expected to be central or popular in the network. \n",
    "In this context, the `degree` of a bike station refers to the number of bike stations that users have travelled from it to the target station.\n",
    "We obtain and visualize the degree distribution of our example network as follows."
   ]
  },
  {
   "cell_type": "code",
   "execution_count": 18,
   "metadata": {},
   "outputs": [],
   "source": [
    "def centralityDegreeDist(G):\n",
    "    \"\"\"\n",
    "    Centrality degree distribution\n",
    "    \"\"\"\n",
    "    # Degree\n",
    "    dd = sorted(nk.centrality.DegreeCentrality(G).run().scores(), reverse=True)\n",
    "    deg, cnt = np.unique(dd, return_counts=True)\n",
    "\n",
    "    # Figure\n",
    "    fig, ax = plt.subplots(figsize=(10,5))\n",
    "    plt.bar(deg[1:], cnt[1:], width=1, color=BLUE)\n",
    "    #plt.axvline(x = np.median(deg), color=\"blue\", linestyle='-', linewidth=1) # Degree Median\n",
    "\n",
    "    # Labeling\n",
    "    plt.title(\"Buenos Aires City Bike Network Degree Distribution\")\n",
    "    plt.ylabel(\"Number of nodes\")\n",
    "    plt.xlabel(\"Degree\")\n",
    "\n",
    "   \n",
    "\n",
    "    plt.show()"
   ]
  },
  {
   "cell_type": "code",
   "execution_count": 19,
   "metadata": {},
   "outputs": [
    {
     "data": {
      "image/png": "[encoded data removed]",
      "text/plain": [
       "<Figure size 1000x500 with 1 Axes>"
      ]
     },
     "metadata": {},
     "output_type": "display_data"
    }
   ],
   "source": [
    "centralityDegreeDist(G2019)"
   ]
  },
  {
   "cell_type": "code",
   "execution_count": 20,
   "metadata": {},
   "outputs": [
    {
     "data": {
      "image/png": "[encoded data removed]",
      "text/plain": [
       "<Figure size 1000x500 with 1 Axes>"
      ]
     },
     "metadata": {},
     "output_type": "display_data"
    }
   ],
   "source": [
    "centralityDegreeDist(G2020)"
   ]
  },
  {
   "cell_type": "code",
   "execution_count": 21,
   "metadata": {},
   "outputs": [
    {
     "data": {
      "image/png": "[encoded data removed]",
      "text/plain": [
       "<Figure size 1000x500 with 1 Axes>"
      ]
     },
     "metadata": {},
     "output_type": "display_data"
    }
   ],
   "source": [
    "centralityDegreeDist(G2021)"
   ]
  },
  {
   "cell_type": "code",
   "execution_count": 22,
   "metadata": {},
   "outputs": [
    {
     "data": {
      "image/png": "[encoded data removed]",
      "text/plain": [
       "<Figure size 1000x500 with 1 Axes>"
      ]
     },
     "metadata": {},
     "output_type": "display_data"
    }
   ],
   "source": [
    "centralityDegreeDist(G2022)"
   ]
  },
  {
   "cell_type": "code",
   "execution_count": 23,
   "metadata": {},
   "outputs": [
    {
     "data": {
      "image/png": "[encoded data removed]",
      "text/plain": [
       "<Figure size 1000x500 with 1 Axes>"
      ]
     },
     "metadata": {},
     "output_type": "display_data"
    }
   ],
   "source": [
    "centralityDegreeDist(G2023)"
   ]
  },
  {
   "cell_type": "markdown",
   "metadata": {},
   "source": [
    "As you can se above. Centrality degree distribution has changed over the year:\n",
    "\n",
    "- In 2019 we find a major number of nodes with high number of degree within the center, and most are concentrated between 250 and 400. The distribution is left-skewed and the average degree is 339.\n",
    "\n",
    "- In 2020 and 2021 we can see that degrees centrality decreased due to the consequences of lockdown during COVID-19 pandemic.\n",
    "- In 2022 there was a slight recovered regarding degree centrality in comparison to previous year.\n",
    "- In 2023 the degree distribution is more likely a normal distribution and the average degree is 168. We can see the overall degree centrality is lower than the privous year, but it is because at the moment we don't have the compleate information for this year.\n",
    "\n",
    "The stations with the highest centrality degree are:"
   ]
  },
  {
   "cell_type": "code",
   "execution_count": 22,
   "metadata": {},
   "outputs": [],
   "source": [
    "# Degree\n",
    "dd = sorted(nk.centrality.DegreeCentrality(G2019).run().scores(), reverse=True)\n",
    "deg, cnt = np.unique(dd, return_counts=True)"
   ]
  },
  {
   "cell_type": "code",
   "execution_count": 24,
   "metadata": {},
   "outputs": [
    {
     "name": "stdout",
     "output_type": "stream",
     "text": [
      "     station_id  degree                  station_name\n",
      "9             9     405       029 - Parque Centenario\n",
      "30           30     404                014 - Pacifico\n",
      "28           28     402       054 - Acuña de Figueroa\n",
      "143         145     401  134 - SOLDADO DE LA FRONTERA\n",
      "91           93     401               161 - Humahuaca\n",
      "94           96     401                 171 - Pasteur\n",
      "7             7     401            025 - Plaza Guemes\n",
      "41           41     401        104 - Federico Lacroze\n",
      "0             0     400            005 - Plaza Italia\n",
      "97           99     400                 136 - Acevedo\n",
      "mean degree 2019:  339.02200488997556\n"
     ]
    }
   ],
   "source": [
    "df_station_degree = pd.DataFrame([(u, G2019.degree(u)) for u in G2019.iterNodes()], columns=['station_id', 'degree'])\n",
    "df_station_degree = pd.merge(df_station_degree, df_bike_station, on=['station_id'], how='inner').sort_values('degree', ascending=False)\n",
    "print(df_station_degree.head(10))\n",
    "print(\"mean degree 2019: \", df_station_degree.degree.mean())"
   ]
  },
  {
   "cell_type": "code",
   "execution_count": 26,
   "metadata": {},
   "outputs": [
    {
     "name": "stdout",
     "output_type": "stream",
     "text": [
      "     station_id  degree             station_name\n",
      "29           30     307           014 - Pacifico\n",
      "89           99     305            136 - Acevedo\n",
      "27           28     303  054 - Acuña de Figueroa\n",
      "104         120     301      276 - PRIMERA JUNTA\n",
      "9             9     300  029 - Parque Centenario\n",
      "36           37     299      017 - Plaza Almagro\n",
      "83           93     298          161 - Humahuaca\n",
      "32           33     297      096 - Carlos Gardel\n",
      "0             0     295       005 - Plaza Italia\n",
      "248         342     294   100 - Plaza Gurruchaga\n",
      "mean degree 2022:  209.1580547112462\n"
     ]
    }
   ],
   "source": [
    "df_station_degree = pd.DataFrame([(u, G2022.degree(u)) for u in G2022.iterNodes()], columns=['station_id', 'degree'])\n",
    "df_station_degree = pd.merge(df_station_degree, df_bike_station, on=['station_id'], how='inner').sort_values('degree', ascending=False)\n",
    "print(df_station_degree.head(10))\n",
    "print(\"mean degree 2022: \", df_station_degree.degree.mean())"
   ]
  },
  {
   "cell_type": "code",
   "execution_count": 27,
   "metadata": {},
   "outputs": [
    {
     "name": "stdout",
     "output_type": "stream",
     "text": [
      "     station_id  degree                 station_name\n",
      "29           30     270               014 - Pacifico\n",
      "27           28     268      054 - Acuña de Figueroa\n",
      "86           99     266                136 - Acevedo\n",
      "0             0     264           005 - Plaza Italia\n",
      "80           93     263              161 - Humahuaca\n",
      "9             9     263      029 - Parque Centenario\n",
      "315         443     261                142 - ARMENIA\n",
      "161         212     260  255 - BARRANCAS DE BELGRANO\n",
      "35           37     259          017 - Plaza Almagro\n",
      "117         146     256                  121 - YATAY\n",
      "mean degree 2023:  168.4392523364486\n"
     ]
    }
   ],
   "source": [
    "df_station_degree = pd.DataFrame([(u, G2023.degree(u)) for u in G2023.iterNodes()], columns=['station_id', 'degree'])\n",
    "df_station_degree = pd.merge(df_station_degree, df_bike_station, on=['station_id'], how='inner').sort_values('degree', ascending=False)\n",
    "print(df_station_degree.head(10))\n",
    "print(\"mean degree 2023: \", df_station_degree.degree.mean())"
   ]
  },
  {
   "cell_type": "code",
   "execution_count": 28,
   "metadata": {},
   "outputs": [],
   "source": [
    "df_station_degree = pd.merge(df_station_degree, df_bike_station_geo, on=['station_id'], how='inner')\n"
   ]
  },
  {
   "cell_type": "markdown",
   "metadata": {},
   "source": [
    "From now on we are only going to focus in the 2023 network. Lets see on the map the station degree of each bike station in 2023\n",
    "\n",
    "As we can see in the graph below stations located in Buenos Aires center have the highest number of connections. As we move to the west and south of the city the degree of the nodes gradually decreases."
   ]
  },
  {
   "cell_type": "code",
   "execution_count": 30,
   "metadata": {},
   "outputs": [
    {
     "name": "stdout",
     "output_type": "stream",
     "text": [
      "User Guide: https://docs.kepler.gl/docs/keplergl-jupyter\n"
     ]
    },
    {
     "data": {
      "application/vnd.jupyter.widget-view+json": {
       "model_id": "34cada2fa7f742f48257ed95a78067f4",
       "version_major": 2,
       "version_minor": 0
      },
      "text/plain": [
       "KeplerGl(config={'version': 'v1', 'config': {'visState': {'filters': [], 'layers': [{'id': 'wbmbn57', 'type': …"
      ]
     },
     "metadata": {},
     "output_type": "display_data"
    }
   ],
   "source": [
    "with open( \"config/station_degree_confmap.json\") as f:\n",
    "    config_map = json.load(f)\n",
    "    \n",
    "map_bike_trips = KeplerGl(height=600,  data={\"Station Degree\": df_station_degree}, config=config_map)\n",
    "map_bike_trips"
   ]
  },
  {
   "cell_type": "markdown",
   "metadata": {},
   "source": [
    "The stations `014 - Pacifico`,  `054 - Acuña de Figueroa`, `136 - Acevedo` and `005 - Plaza Italia` are at the top of this list suggesting that a large number of citizens from different districts make regular trips to and from this station. They are either next to a large transportation hub or an important point of interest such as large educational institution and hospitals points.\n",
    "\n",
    "Now, lets calculate the degree In and Out of the stations, that will allow us to know which stations might require more replenishments or docks to support their supply and demand. By computing the degree of each vertex based on their incoming and outgoing edges, we are able to determine their ratio.\n"
   ]
  },
  {
   "cell_type": "markdown",
   "metadata": {},
   "source": [
    "### 4.1.1. Degree In: incoming/outgoing\n",
    "\n",
    "A high in-out degree means that there are a lot more bikes parking here than going out, indicating a high supply of bikes. In other words, there may be a lack of docks. High in-out ratios occur in bike stations like `014 - Pacifico`  which is near to Palermo railway and subway station (One of the hotspot of Buenos aires city) and `014 - Pacifico` close to Centenario Park and Angel Gallardo Subway station that is a halfway spot to this subway.\n",
    "\n",
    "From this simple analysis, it seems to be good for business in considerin the placement of more docks near these stations so that other users would not face the issue of not having enough docks to return the bikes. Let's lock them on the map to have a better understanding.\n",
    "\n",
    "Note: green path means incoming, whereas red means outgoing."
   ]
  },
  {
   "cell_type": "code",
   "execution_count": 35,
   "metadata": {},
   "outputs": [],
   "source": [
    "df_bike_trip_agg = df_bike_trip[df_bike_trip['year']==2023].groupby(['departure_station_id', 'return_station_id'])\\\n",
    "                                .agg({'departure_long':'min', 'departure_lat':'min', 'return_station_long':'min', 'return_station_lat':'min', 'rout_id': 'count'})\\\n",
    "                                .reset_index()\n",
    "\n",
    "df_bike_trip_agg = df_bike_trip_agg.dropna()\n",
    "\n",
    "df_bike_trip_agg = df_bike_trip_agg[df_bike_trip_agg['departure_station_id']!=df_bike_trip_agg['return_station_id'] ]\n",
    "\n",
    "df_station_degree_in = pd.DataFrame([(u, G2023.degreeIn(u)) for u in G2023.iterNodes()], columns=['station_id', 'degree_in'])\n",
    "df_station_degree_in = pd.merge(df_station_degree_in, df_bike_station, on=['station_id'], how='inner').sort_values('degree_in', ascending=False)\n"
   ]
  },
  {
   "cell_type": "code",
   "execution_count": 36,
   "metadata": {},
   "outputs": [
    {
     "name": "stdout",
     "output_type": "stream",
     "text": [
      "User Guide: https://docs.kepler.gl/docs/keplergl-jupyter\n"
     ]
    },
    {
     "data": {
      "application/vnd.jupyter.widget-view+json": {
       "model_id": "80b16cbf47ba4d0eb7d9d150fe24ba67",
       "version_major": 2,
       "version_minor": 0
      },
      "text/plain": [
       "KeplerGl(config={'version': 'v1', 'config': {'visState': {'filters': [], 'layers': [{'id': 'jtlqnai', 'type': …"
      ]
     },
     "metadata": {},
     "output_type": "display_data"
    }
   ],
   "source": [
    "df_station_degree_in = pd.merge(df_station_degree_in, df_bike_station_geo, on=['station_id'], how='inner')\n",
    "df_station_degree_in = pd.merge(df_bike_trip_agg, df_station_degree_in.iloc[:20,:] , left_on='return_station_id' , right_on='station_id', how='inner')\n",
    "\n",
    "with open( \"config/station_degree_in_confmap.json\") as f:\n",
    "    config_map = json.load(f)\n",
    "    \n",
    "map_bike_trips = KeplerGl(height=600,  data={\"Station Degree\": df_station_degree_in}, config=config_map)\n",
    "map_bike_trips"
   ]
  },
  {
   "cell_type": "markdown",
   "metadata": {},
   "source": [
    "### 4.1.2. Degree Out: outgoing/incoming\n",
    "A high out-in value means that there are a lot more bikes leaving here which could result in a shortage, indicating high demand for bikes. In other words, there may be a lack of bikes.\n",
    "\n",
    "The highest out-in ratio belongs to `014 - Pacifico` that is on Santa Fe Av., close to Palermo rail and subway station. As we have seen before, this station is also the thirth with highest Degree In ratio, this means that maybe, there is a balance between outgoing and incoming bikes.\n",
    "\n",
    "\n",
    "005 - Plaza Italia is one of the most outgoing bike station and it because is close to many important spot like Italia subway station, Italian Park and La Rural. This is a station to be wary of as there could be a shortage of bikes. \n",
    "It interesting to note that these station are mostly run off of bicycles and most of the time it is hard to get one. So it needs a biger supply of bikes to these stations.\n",
    "\n"
   ]
  },
  {
   "cell_type": "code",
   "execution_count": 37,
   "metadata": {},
   "outputs": [
    {
     "name": "stdout",
     "output_type": "stream",
     "text": [
      "User Guide: https://docs.kepler.gl/docs/keplergl-jupyter\n"
     ]
    },
    {
     "data": {
      "application/vnd.jupyter.widget-view+json": {
       "model_id": "b8b55540626546b28af0ed4f36cb26e8",
       "version_major": 2,
       "version_minor": 0
      },
      "text/plain": [
       "KeplerGl(config={'version': 'v1', 'config': {'visState': {'filters': [], 'layers': [{'id': 'jtlqnai', 'type': …"
      ]
     },
     "metadata": {},
     "output_type": "display_data"
    }
   ],
   "source": [
    "df_station_degree_out = pd.DataFrame([(u, G2023.degreeOut(u)) for u in G2023.iterNodes()], columns=['station_id', 'degree_out'])\n",
    "df_station_degree_out = pd.merge(df_station_degree_out, df_bike_station, on=['station_id'], how='inner').sort_values('degree_out', ascending=False)\n",
    "df_station_degree_out = pd.merge(df_station_degree_out, df_bike_station_geo, on=['station_id'], how='inner')\n",
    "df_station_degree_out = pd.merge(df_bike_trip_agg, df_station_degree_out.iloc[:20,:] , left_on='departure_station_id' , right_on='station_id', how='inner')\n",
    "\n",
    "\n",
    "with open( \"config/station_degree_out_confmap.json\") as f:\n",
    "    config_map = json.load(f)\n",
    "    \n",
    "map_bike_trips = KeplerGl(height=600,  data={\"Station Degree\": df_station_degree_out}, config=config_map)\n",
    "map_bike_trips"
   ]
  },
  {
   "cell_type": "markdown",
   "metadata": {},
   "source": [
    "## 4.2. Betweenness Centrality\n",
    "\n",
    "The betweenness centrality is a measure of how often a node is a bridge between other nodes. It measures how frequently a node falls on the middle or on the shortest paht between different nodes in the network. Nodes with high between centrality are often important controllers of power or information\n",
    "Most of the time they are boundary spanner between tow clusters in a network.\n",
    "\n",
    "For every pair of vertices in a connected graph, there exists at least one shortest path between the vertices such that either the number of edges that the path passes through (for unweighted graphs) or the sum of the weights of the edges (for weighted graphs) is minimized. The betweenness centrality for each vertex is the number of these shortest paths that pass through the vertex.\n",
    "\n",
    "$ Betweenness Centrality (C_B) = \\frac{{\\sum_{s \\neq v \\neq t} \\frac{{\\sigma_{st}(v)}}{{\\sigma_{st}}}}}{\\binom{n}{2}} $\n",
    "\n",
    "\n",
    "In a weighted network the links connecting the nodes are no longer treated as binary interactions, but are weighted in proportion to their capacity, influence, frequency, etc., which adds another dimension of heterogeneity within the network beyond the topological effects. A node’s strength in a weighted network is given by the sum of the weights of its adjacent edges.\n",
    "\n",
    "\n",
    "The graph below illustrates the city bike stations by betweenness centrality."
   ]
  },
  {
   "cell_type": "code",
   "execution_count": 38,
   "metadata": {},
   "outputs": [],
   "source": [
    "G2019.removeSelfLoops()\n",
    "G2020.removeSelfLoops()\n",
    "G2021.removeSelfLoops()\n",
    "G2022.removeSelfLoops()\n",
    "G2023.removeSelfLoops()"
   ]
  },
  {
   "cell_type": "code",
   "execution_count": 40,
   "metadata": {},
   "outputs": [
    {
     "name": "stdout",
     "output_type": "stream",
     "text": [
      "User Guide: https://docs.kepler.gl/docs/keplergl-jupyter\n"
     ]
    },
    {
     "data": {
      "application/vnd.jupyter.widget-view+json": {
       "model_id": "7ddcf6255e374efea287ee2cb885d7fe",
       "version_major": 2,
       "version_minor": 0
      },
      "text/plain": [
       "KeplerGl(config={'version': 'v1', 'config': {'visState': {'filters': [], 'layers': [{'id': 'vh6j7v6', 'type': …"
      ]
     },
     "metadata": {},
     "output_type": "display_data"
    }
   ],
   "source": [
    "bc = nk.centrality.Betweenness(G2023)\n",
    "bc.run()\n",
    "df_betweeness_cent = pd.DataFrame(bc.ranking(), columns=['station_id', 'betweeness_centrality'])\n",
    "\n",
    "df_betweeness_cent = pd.merge(df_betweeness_cent, df_bike_station, on=['station_id'], how='inner').sort_values('betweeness_centrality', ascending=False)\n",
    "df_betweeness_cent = pd.merge(df_betweeness_cent, df_bike_station_geo, on=['station_id'], how='inner')\n",
    "\n",
    "df_betweeness_cent = df_betweeness_cent.iloc[:20,:]\n",
    "station_ids = df_betweeness_cent.station_id.unique().tolist()\n",
    "\n",
    "df_bike_trip_agg = df_bike_trip_agg[df_bike_trip_agg['departure_station_id'].isin(station_ids) | df_bike_trip_agg['return_station_id'].isin(station_ids)]\n",
    "\n",
    "with open( \"config/station_betweenness_cent_confmap.json\") as f:\n",
    "    config_map = json.load(f)\n",
    "    \n",
    "map_bike_trips = KeplerGl(height=600,  data={\"Betweenness Centrality\": df_betweeness_cent, \"Bike trips\": df_bike_trip_agg}, config=config_map)\n",
    "map_bike_trips"
   ]
  },
  {
   "cell_type": "markdown",
   "metadata": {},
   "source": [
    "The nodes with the highest “betweenness centrality” are `Plaza de la Misericordia`, `Plaza 24 de Septiembre` and `Carabobo` bike station. As we can see from the graph above, most of this nodes are located in the middle of the city where they serve as a halfway between bikes station in the city center and those that are in the west. \n",
    "\n",
    "We might think that due to the demografic distribution of the city, traffic flows from the hotest point to other nodes which are mostly channelled through these station, but in reality, its hardly  happens that riders use these stations as a halfway point. Even Though, it might be a good idea to place more docks in these bike stations.\n",
    "\n"
   ]
  },
  {
   "cell_type": "markdown",
   "metadata": {},
   "source": [
    "## 4.3. Closeness Centrality\n",
    "\n",
    "Closeness centrality measures how close a node is to all other nodes in the network. It is based on the average shortest path distance from the node to all other nodes. Nodes with higher closeness centrality are more central in the sense that they can reach other nodes more quickly.\n",
    "\n",
    "$ Closeness Centrality (C_C) = \\frac{{n - 1}}{{\\sum_{v \\neq s} d(s, v)}} $\n"
   ]
  },
  {
   "cell_type": "code",
   "execution_count": 41,
   "metadata": {},
   "outputs": [
    {
     "name": "stdout",
     "output_type": "stream",
     "text": [
      "User Guide: https://docs.kepler.gl/docs/keplergl-jupyter\n"
     ]
    },
    {
     "data": {
      "application/vnd.jupyter.widget-view+json": {
       "model_id": "363b0b7a9b8e4a3e8faf896de7b92349",
       "version_major": 2,
       "version_minor": 0
      },
      "text/plain": [
       "KeplerGl(config={'version': 'v1', 'config': {'visState': {'filters': [], 'layers': [{'id': '493mhh8', 'type': …"
      ]
     },
     "metadata": {},
     "output_type": "display_data"
    }
   ],
   "source": [
    "df_bike_trip_agg = df_bike_trip[df_bike_trip['year']==2023].groupby(['departure_station_id', 'return_station_id'])\\\n",
    "                                .agg({'departure_long':'min', 'departure_lat':'min', 'return_station_long':'min', 'return_station_lat':'min', 'rout_id': 'count'})\\\n",
    "                                .reset_index()\n",
    "\n",
    "df_bike_trip_agg = df_bike_trip_agg.dropna()\n",
    "\n",
    "df_bike_trip_agg = df_bike_trip_agg[df_bike_trip_agg['departure_station_id']!=df_bike_trip_agg['return_station_id'] ]\n",
    "\n",
    "\n",
    "# Initialize algorithm\n",
    "close = nk.centrality.Closeness(G2023, False, nk.centrality.ClosenessVariant.Generalized)\n",
    "close.run()\n",
    "\n",
    "#The most central nodes according to betweenness are then \n",
    "df_closeness_cent = pd.DataFrame(close.ranking(), columns=['station_id', 'closeness_centrality'])\n",
    "\n",
    "df_closeness_cent = pd.merge(df_closeness_cent, df_bike_station, on=['station_id'], how='inner').sort_values('closeness_centrality', ascending=False)\n",
    "df_closeness_cent = pd.merge(df_closeness_cent, df_bike_station_geo, on=['station_id'], how='inner')\n",
    "\n",
    "df_closeness_cent = df_closeness_cent.iloc[:20,:]\n",
    "station_ids = df_closeness_cent.station_id.unique().tolist()\n",
    "\n",
    "df_bike_trip_agg = df_bike_trip_agg[df_bike_trip_agg['departure_station_id'].isin(station_ids) | df_bike_trip_agg['return_station_id'].isin(station_ids)]\n",
    "\n",
    "with open( \"config/station_closeness_cent_confmap.json\") as f:\n",
    "    config_map = json.load(f)\n",
    "    \n",
    "map_bike_trips = KeplerGl(height=600,  data={\"Closeness Centrality\": df_closeness_cent, \"Bike trips\": df_bike_trip_agg}, config=config_map)\n",
    "map_bike_trips"
   ]
  },
  {
   "cell_type": "markdown",
   "metadata": {},
   "source": [
    "## 4.4. Eigenvector Centrality \n",
    "\n",
    "Eigenvector centrality assign relative importance to nodes according to their connections, incorporating the idea that edges to high-scoring nodes contribute more.Nodes with high Eigenvector Centrality have connections to other nodes with high centrality, contributing to their own centrality. It takes into account both the number of connections a node has and the centrality of those connected nodes.\n",
    "\n",
    "$ Eigenvector Centrality (C_E) = \\frac{1}{\\lambda} \\cdot A \\cdot C_E $\n",
    "\n",
    "\n",
    "​\t\n",
    "* $(C_E)$ represents the Eigenvector Centrality vector for all nodes in the graph.\n",
    "* $ A $ is the adjacency matrix of the graph.\n",
    "* $ \\lambda $ is the dominant eigenvalue of the adjacency matrix $ A $\n"
   ]
  },
  {
   "cell_type": "code",
   "execution_count": 42,
   "metadata": {},
   "outputs": [
    {
     "name": "stdout",
     "output_type": "stream",
     "text": [
      "User Guide: https://docs.kepler.gl/docs/keplergl-jupyter\n"
     ]
    },
    {
     "data": {
      "application/vnd.jupyter.widget-view+json": {
       "model_id": "7d4a1c816d0945f8b76926631fa6d4a1",
       "version_major": 2,
       "version_minor": 0
      },
      "text/plain": [
       "KeplerGl(config={'version': 'v1', 'config': {'visState': {'filters': [], 'layers': [{'id': 'dh9bh5', 'type': '…"
      ]
     },
     "metadata": {},
     "output_type": "display_data"
    }
   ],
   "source": [
    "df_bike_trip_agg = df_bike_trip[df_bike_trip['year']==2023].groupby(['departure_station_id', 'return_station_id'])\\\n",
    "                                .agg({'departure_long':'min', 'departure_lat':'min', 'return_station_long':'min', 'return_station_lat':'min', 'rout_id': 'count'})\\\n",
    "                                .reset_index()\n",
    "\n",
    "df_bike_trip_agg = df_bike_trip_agg.dropna()\n",
    "\n",
    "df_bike_trip_agg = df_bike_trip_agg[df_bike_trip_agg['departure_station_id']!=df_bike_trip_agg['return_station_id'] ]\n",
    "\n",
    "\n",
    "# Eigenvector centrality\n",
    "ec = nk.centrality.EigenvectorCentrality(G2023)\n",
    "ec.run()\n",
    "\n",
    "df_eigenvector_cent = pd.DataFrame(ec.ranking(), columns=['station_id', 'eigenvector_centrality'])\n",
    "\n",
    "df_eigenvector_cent = pd.merge(df_eigenvector_cent, df_bike_station, on=['station_id'], how='inner').sort_values('eigenvector_centrality', ascending=False)\n",
    "df_eigenvector_cent = pd.merge(df_eigenvector_cent, df_bike_station_geo, on=['station_id'], how='inner')\n",
    "\n",
    "df_eigenvector_cent = df_eigenvector_cent.iloc[:20,:]\n",
    "station_ids = df_eigenvector_cent.station_id.unique().tolist()\n",
    "\n",
    "df_bike_trip_agg = df_bike_trip_agg[df_bike_trip_agg['departure_station_id'].isin(station_ids) | df_bike_trip_agg['return_station_id'].isin(station_ids)]\n",
    "\n",
    "with open( \"config/station_eigenvector_cent_confmap.json\") as f:\n",
    "    config_map = json.load(f)\n",
    "    \n",
    "map_bike_trips = KeplerGl(height=600,  data={\"Eigenvector Centrality\": df_eigenvector_cent, \"Bike trips\": df_bike_trip_agg}, config=config_map)\n",
    "map_bike_trips\n"
   ]
  },
  {
   "cell_type": "code",
   "execution_count": 68,
   "metadata": {},
   "outputs": [
    {
     "data": {
      "text/html": [
       "<div>\n",
       "<style scoped>\n",
       "    .dataframe tbody tr th:only-of-type {\n",
       "        vertical-align: middle;\n",
       "    }\n",
       "\n",
       "    .dataframe tbody tr th {\n",
       "        vertical-align: top;\n",
       "    }\n",
       "\n",
       "    .dataframe thead th {\n",
       "        text-align: right;\n",
       "    }\n",
       "</style>\n",
       "<table border=\"1\" class=\"dataframe\">\n",
       "  <thead>\n",
       "    <tr style=\"text-align: right;\">\n",
       "      <th></th>\n",
       "      <th>station_id</th>\n",
       "      <th>pagerank_centrality</th>\n",
       "      <th>station_name</th>\n",
       "    </tr>\n",
       "  </thead>\n",
       "  <tbody>\n",
       "    <tr>\n",
       "      <th>0</th>\n",
       "      <td>12</td>\n",
       "      <td>0.003115</td>\n",
       "      <td>147 - Constitución</td>\n",
       "    </tr>\n",
       "    <tr>\n",
       "      <th>1</th>\n",
       "      <td>30</td>\n",
       "      <td>0.003115</td>\n",
       "      <td>014 - Pacifico</td>\n",
       "    </tr>\n",
       "    <tr>\n",
       "      <th>2</th>\n",
       "      <td>226</td>\n",
       "      <td>0.003115</td>\n",
       "      <td>281 - Villa Urquiza</td>\n",
       "    </tr>\n",
       "    <tr>\n",
       "      <th>3</th>\n",
       "      <td>212</td>\n",
       "      <td>0.003115</td>\n",
       "      <td>255 - BARRANCAS DE BELGRANO</td>\n",
       "    </tr>\n",
       "    <tr>\n",
       "      <th>4</th>\n",
       "      <td>399</td>\n",
       "      <td>0.003115</td>\n",
       "      <td>352 - San Jose de Flores</td>\n",
       "    </tr>\n",
       "    <tr>\n",
       "      <th>5</th>\n",
       "      <td>17</td>\n",
       "      <td>0.003115</td>\n",
       "      <td>008 - Congreso</td>\n",
       "    </tr>\n",
       "    <tr>\n",
       "      <th>6</th>\n",
       "      <td>0</td>\n",
       "      <td>0.003115</td>\n",
       "      <td>005 - Plaza Italia</td>\n",
       "    </tr>\n",
       "    <tr>\n",
       "      <th>7</th>\n",
       "      <td>353</td>\n",
       "      <td>0.003115</td>\n",
       "      <td>207 - PLAZA ARENALES</td>\n",
       "    </tr>\n",
       "    <tr>\n",
       "      <th>8</th>\n",
       "      <td>337</td>\n",
       "      <td>0.003115</td>\n",
       "      <td>396 - PLAZA ALBERTI</td>\n",
       "    </tr>\n",
       "    <tr>\n",
       "      <th>9</th>\n",
       "      <td>100</td>\n",
       "      <td>0.003115</td>\n",
       "      <td>128 - PARQUE DEL BAJO</td>\n",
       "    </tr>\n",
       "  </tbody>\n",
       "</table>\n",
       "</div>"
      ],
      "text/plain": [
       "   station_id  pagerank_centrality                 station_name\n",
       "0          12             0.003115           147 - Constitución\n",
       "1          30             0.003115               014 - Pacifico\n",
       "2         226             0.003115          281 - Villa Urquiza\n",
       "3         212             0.003115  255 - BARRANCAS DE BELGRANO\n",
       "4         399             0.003115     352 - San Jose de Flores\n",
       "5          17             0.003115               008 - Congreso\n",
       "6           0             0.003115           005 - Plaza Italia\n",
       "7         353             0.003115         207 - PLAZA ARENALES\n",
       "8         337             0.003115          396 - PLAZA ALBERTI\n",
       "9         100             0.003115        128 - PARQUE DEL BAJO"
      ]
     },
     "execution_count": 68,
     "metadata": {},
     "output_type": "execute_result"
    }
   ],
   "source": [
    "# PageRank\n",
    "pr = nk.centrality.PageRank(G2023, 1e-6)\n",
    "pr.run()\n",
    "\n",
    "df_pagerank_cent = pd.DataFrame(pr.ranking(), columns=['station_id', 'pagerank_centrality'])\n",
    "\n",
    "df_pagerank_cent = pd.merge(df_pagerank_cent, df_bike_station, on=['station_id'], how='inner').sort_values('pagerank_centrality', ascending=False)\n",
    "df_pagerank_cent.head(10)"
   ]
  },
  {
   "cell_type": "markdown",
   "metadata": {},
   "source": [
    "## 5. Community Detection\n",
    "\n",
    "Community detection is often used to understand the structure of complex networks and identify groups of nodes which are significantly more densely connected to eachother than to the rest of the network. These algorithms can help us to better understand bike usege patterns and might determine adequate pricing models or better docks arragement.\n",
    "There is a number of algorithms available for community detection but in this case we have focused only on the `Louvain Method` due to its beautiful simplicity and computational efficiency. Applying the Louvain method to the Buenos Aires city bike network reveals five distinct clusters."
   ]
  },
  {
   "cell_type": "code",
   "execution_count": 19,
   "metadata": {},
   "outputs": [
    {
     "name": "stdout",
     "output_type": "stream",
     "text": [
      "Year: 2023\n",
      "Number of nodes:  321  - Number of edges:  54069  - Number of self loops:  320\n"
     ]
    }
   ],
   "source": [
    "# In order to apply this algorithm we have to turn the graph to undirected type.\n",
    "G2023 = bikeGraph(df_bike_trip, 2023, weight='count', directed=False)\n",
    "print(\"Year: 2023\")\n",
    "print(\"Number of nodes: \", G2023.numberOfNodes(), \" - Number of edges: \", G2023.numberOfEdges(), \" - Number of self loops: \", G2023.numberOfSelfLoops())"
   ]
  },
  {
   "cell_type": "code",
   "execution_count": 20,
   "metadata": {},
   "outputs": [
    {
     "name": "stdout",
     "output_type": "stream",
     "text": [
      "Communities detected in 0.01554 [s]\n",
      "solution properties:\n",
      "-------------------  -------------\n",
      "# communities             5\n",
      "min community size       15\n",
      "max community size       89\n",
      "avg. community size      64.2\n",
      "imbalance                 1.36923\n",
      "edge cut             278607\n",
      "edge cut (portion)        5.1528\n",
      "modularity                0.447088\n",
      "-------------------  -------------\n"
     ]
    },
    {
     "name": "stderr",
     "output_type": "stream",
     "text": [
      "/Users/galissa/miniconda3/envs/graph/lib/python3.8/site-packages/networkit/stopwatch.py:49: UserWarning: networkit.Timer is deprecated, will be removed in future updates.\n",
      "  warn(\"networkit.Timer is deprecated, will be removed in future updates.\")\n"
     ]
    }
   ],
   "source": [
    "# Choose and initialize algorithm\n",
    "# This help to find the optimum number of communities\n",
    "plmCommunities = nk.community.detectCommunities(G2023, algo=nk.community.PLM(G2023, True))"
   ]
  },
  {
   "cell_type": "markdown",
   "metadata": {},
   "source": [
    "Each community is associated with a unique integer id, and each node is associated to a community id. `plm_community_ids` is a set that contains all the community ids, while `plm_communities` is a vector of size n (number of nodes of the graph) that contains the community id of each node."
   ]
  },
  {
   "cell_type": "code",
   "execution_count": 22,
   "metadata": {},
   "outputs": [],
   "source": [
    "# Creating an instance of PLP and running the algorithm.\n",
    "# Use community.PLM(g) to run the PLM algorithm.\n",
    "plm = nk.community.PLP(G2023, baseClustering=plmCommunities).run()\n",
    "\n",
    "# Getting the Partition object.\n",
    "plm_partition = plm.getPartition()\n",
    "\n",
    "# Getting the community IDs.\n",
    "plm_community_ids = plm_partition.getSubsetIds()\n",
    "\n",
    "# Getting the community ID of each node of the graph g.\n",
    "plm_communities = plm_partition.getVector()"
   ]
  },
  {
   "cell_type": "code",
   "execution_count": 23,
   "metadata": {},
   "outputs": [
    {
     "name": "stdout",
     "output_type": "stream",
     "text": [
      "User Guide: https://docs.kepler.gl/docs/keplergl-jupyter\n"
     ]
    },
    {
     "data": {
      "application/vnd.jupyter.widget-view+json": {
       "model_id": "73d95701fe4b4f46bba3e1c7e2230db3",
       "version_major": 2,
       "version_minor": 0
      },
      "text/plain": [
       "KeplerGl(config={'version': 'v1', 'config': {'visState': {'filters': [], 'layers': [{'id': 'uh0ijun', 'type': …"
      ]
     },
     "metadata": {},
     "output_type": "display_data"
    }
   ],
   "source": [
    "\n",
    "nodes = []\n",
    "plm_comm = []\n",
    "for u in G2023.iterNodes():\n",
    "    nodes.append(u)\n",
    "    plm_comm.append(plmCommunities[u])\n",
    "\n",
    "df_plm_communities = pd.DataFrame({\"station_id\": nodes, \"plm_communitie\": plm_comm})\n",
    "\n",
    "df_bike_trip_agg = df_bike_trip[df_bike_trip['year']==2023].groupby(['departure_station_id', 'return_station_id'])\\\n",
    "                                .agg({'departure_long':'min', 'departure_lat':'min', 'return_station_long':'min', 'return_station_lat':'min', 'rout_id': 'count'})\\\n",
    "                                .reset_index()\n",
    "\n",
    "df_bike_trip_agg = df_bike_trip_agg.dropna()\n",
    "\n",
    "df_bike_trip_agg = df_bike_trip_agg[df_bike_trip_agg['departure_station_id']!=df_bike_trip_agg['return_station_id'] ]\n",
    "\n",
    "\n",
    "df_bike_trip_agg = pd.merge(df_bike_trip_agg, df_plm_communities, left_on='departure_station_id', right_on='station_id', how='left')\n",
    "df_bike_trip_agg = pd.merge(df_bike_trip_agg, df_plm_communities, left_on='return_station_id', right_on='station_id', how='left')\n",
    "df_bike_trip_agg['plm_communitie'] = np.where(df_bike_trip_agg['plm_communitie_x']==df_bike_trip_agg['plm_communitie_y'], df_bike_trip_agg['plm_communitie_x'], -1)\n",
    "\n",
    "df_bike_trip_agg=df_bike_trip_agg[['departure_station_id', 'return_station_id', 'departure_long',\n",
    "       'departure_lat', 'return_station_long', 'return_station_lat', 'rout_id',\n",
    "       'plm_communitie']]\n",
    "\n",
    "\n",
    "with open( \"config/trip_communities_confmap.json\") as f:\n",
    "    config_map = json.load(f)\n",
    "    \n",
    "map_bike_trips = KeplerGl(height=600,  data={\"PLM Communities\": df_bike_trip_agg}, config=config_map)\n",
    "map_bike_trips"
   ]
  },
  {
   "cell_type": "markdown",
   "metadata": {},
   "source": [
    "From the graph below we can see 5 cluster their respective colors as Grey (cluster 0), Orange (cluster 1), Yellow (cluster 2), Blue (cluster 3), Violet (cluster 4) and Green (No cluster assigned).\n",
    "\n",
    "This means that bike trips inside these communities are higher than the bike trips between these communities. Being that buenos aires city is such a big area you will find that the areas in which people travel are within this 5 specific zones. Besides, there is a relationshiph with the transportation networks and population. For instance, Cluster 1 (Orange) is more densely conected because it is located in the center city, and as we have seen before, this area has the biggest number of bike stations, population and cycle paths. \n",
    "\n"
   ]
  },
  {
   "cell_type": "code",
   "execution_count": 32,
   "metadata": {},
   "outputs": [
    {
     "data": {
      "image/png": "[encoded data removed]",
      "text/plain": [
       "<Figure size 640x480 with 1 Axes>"
      ]
     },
     "metadata": {},
     "output_type": "display_data"
    }
   ],
   "source": [
    "df_plm_communities.groupby('plm_communitie').count().reset_index().plot(x='plm_communitie', y='station_id', kind='bar', legend=False, color=BLUE)\n",
    "plt.xlabel('Communities', rotation=0)\n",
    "plt.xticks(rotation=0)\n",
    "plt.ylabel('Num. bike stations')\n",
    "plt.title('Louvain communities')\n",
    "plt.show()\n"
   ]
  },
  {
   "cell_type": "markdown",
   "metadata": {},
   "source": [
    "# Conclusion\n",
    "Understanding the data is an important step for the business to gain insights into their operations and make data-driven decisions to achieve their business objectives. Data which requires geolocation often needs to be visualised in graphs to better understand how the nodes and edges are relative to and interact with one another.\n",
    "For instance, in this tutorial, the business we were able to explore the trips and customers behaviour, and from there understand which are the more frequently bike stations. This was helpful in providing insights into the way Baywheels can manage their inventory.\n",
    "The analysis done above happens on LynxKite which has just been made free and accessible for anyone to try! There are other tutorials available on their website which are easy to follow. As a drag and drop platform, the learning curve is gentle and easy to pick up. Save yourself precious time from writing code to plotting graphs when you can pull and have the platform do a variety of graphing analysis and visualisations for you! Check out our second article if you want to know how we put these analyses together on LynxKite."
   ]
  },
  {
   "cell_type": "markdown",
   "metadata": {},
   "source": [
    "The next part of the article will take a look at how machine learning methods can be applied to further enhance understanding of relationships within the network."
   ]
  },
  {
   "cell_type": "markdown",
   "metadata": {},
   "source": [
    "In this part of the article, the Helsinki city bike network was briefly analyzed as a complex network. Multiple centrality measures were applied to the network and important centres were identified. Tree community detection algorithms revealed different possible groupings of the nodes within the network. The next part of the article will take a look at how machine learning methods can be applied to further enhance understanding of relationships within the network."
   ]
  },
  {
   "cell_type": "markdown",
   "metadata": {},
   "source": []
  }
 ],
 "metadata": {
  "kernelspec": {
   "display_name": "Python 3 (ipykernel)",
   "language": "python",
   "name": "python3"
  },
  "language_info": {
   "codemirror_mode": {
    "name": "ipython",
    "version": 3
   },
   "file_extension": ".py",
   "mimetype": "text/x-python",
   "name": "python",
   "nbconvert_exporter": "python",
   "pygments_lexer": "ipython3",
   "version": "3.8.16"
  }
 },
 "nbformat": 4,
 "nbformat_minor": 4
}
